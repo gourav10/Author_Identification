{
 "cells": [
  {
   "cell_type": "code",
   "execution_count": 1,
   "id": "fd7e858e",
   "metadata": {
    "scrolled": true
   },
   "outputs": [
    {
     "name": "stdout",
     "output_type": "stream",
     "text": [
      "Requirement already satisfied: tqdm in c:\\users\\skyfire\\appdata\\roaming\\python\\python38\\site-packages (4.64.0)\n",
      "Requirement already satisfied: colorama in c:\\users\\skyfire\\anaconda3\\envs\\pytorch\\lib\\site-packages (from tqdm) (0.4.4)\n"
     ]
    }
   ],
   "source": [
    "!pip install --upgrade tqdm"
   ]
  },
  {
   "cell_type": "markdown",
   "id": "20c51fce-b418-47c8-9667-a8a349e7abdb",
   "metadata": {
    "tags": []
   },
   "source": [
    "# Importing Depdencencies"
   ]
  },
  {
   "cell_type": "code",
   "execution_count": 2,
   "id": "f31d17ba",
   "metadata": {},
   "outputs": [],
   "source": [
    "import pandas as pd\n",
    "import numpy\n",
    "import warnings\n",
    "warnings.filterwarnings(\"ignore\")\n",
    "%matplotlib inline\n",
    "import seaborn as sns\n",
    "import matplotlib.pyplot as plt\n",
    "import pprint\n",
    "import numpy as np\n",
    "import torch\n",
    "from tqdm import tqdm"
   ]
  },
  {
   "cell_type": "code",
   "execution_count": 3,
   "id": "2aa2af9b",
   "metadata": {},
   "outputs": [],
   "source": [
    "import torch\n",
    "from torch.utils.data import DataLoader\n",
    "device = torch.device(\"cuda\" if torch.cuda.is_available() else \"cpu\")"
   ]
  },
  {
   "cell_type": "code",
   "execution_count": 4,
   "id": "de5d084b",
   "metadata": {},
   "outputs": [],
   "source": [
    "from torch import nn\n",
    "import torchvision, torch\n",
    "from torchsummary import summary\n",
    "from torchvision import transforms as T\n",
    "from torch import optim\n",
    "import copy"
   ]
  },
  {
   "cell_type": "code",
   "execution_count": 5,
   "id": "18baa4d7-424e-4b4a-91de-a1eff6ba8dff",
   "metadata": {},
   "outputs": [],
   "source": [
    "import scipy.io as sio"
   ]
  },
  {
   "cell_type": "markdown",
   "id": "9061027c",
   "metadata": {},
   "source": [
    "# Loading Training and Testing Data"
   ]
  },
  {
   "cell_type": "markdown",
   "id": "72e1929e-0639-46c1-82d6-ed4e21c100e6",
   "metadata": {},
   "source": [
    "We will load the train and test dataset."
   ]
  },
  {
   "cell_type": "code",
   "execution_count": 6,
   "id": "0b58a400",
   "metadata": {},
   "outputs": [],
   "source": [
    "train_df = pd.read_csv('./dataset/Gungor_2018_VictorianAuthorAttribution_data-train.csv',encoding='latin-1')\n",
    "test_df = pd.read_csv('./dataset/Gungor_2018_VictorianAuthorAttribution_data.csv',encoding='latin-1')"
   ]
  },
  {
   "cell_type": "code",
   "execution_count": 7,
   "id": "0bbdca64-1bb1-422f-862e-fffb0d8af07a",
   "metadata": {},
   "outputs": [],
   "source": [
    "test_author = sio.loadmat('./dataset/test_author.mat')[\"test_author\"]"
   ]
  },
  {
   "cell_type": "code",
   "execution_count": 8,
   "id": "b0d7a6b6-7fd1-449c-88ab-9404bdef3dce",
   "metadata": {},
   "outputs": [],
   "source": [
    "test_df['author'] = test_author.reshape((test_df.shape[0]))\n",
    "missing_authors = [5, 7, 31, 47, 49]\n",
    "test_df = test_df.loc[~(test_df['author'].isin(missing_authors))]"
   ]
  },
  {
   "cell_type": "code",
   "execution_count": 9,
   "id": "0ed80a0c-52a8-43c8-bc60-6f503571423d",
   "metadata": {},
   "outputs": [],
   "source": [
    "test_df['author'] = test_df['author']-1"
   ]
  },
  {
   "cell_type": "code",
   "execution_count": 10,
   "id": "377f9306-2670-444c-a78f-92d7e74b5e77",
   "metadata": {},
   "outputs": [
    {
     "data": {
      "text/html": [
       "<div>\n",
       "<style scoped>\n",
       "    .dataframe tbody tr th:only-of-type {\n",
       "        vertical-align: middle;\n",
       "    }\n",
       "\n",
       "    .dataframe tbody tr th {\n",
       "        vertical-align: top;\n",
       "    }\n",
       "\n",
       "    .dataframe thead th {\n",
       "        text-align: right;\n",
       "    }\n",
       "</style>\n",
       "<table border=\"1\" class=\"dataframe\">\n",
       "  <thead>\n",
       "    <tr style=\"text-align: right;\">\n",
       "      <th></th>\n",
       "      <th>text</th>\n",
       "      <th>author</th>\n",
       "    </tr>\n",
       "  </thead>\n",
       "  <tbody>\n",
       "    <tr>\n",
       "      <th>0</th>\n",
       "      <td>nt it seems te me how much money is he worth a...</td>\n",
       "      <td>0</td>\n",
       "    </tr>\n",
       "    <tr>\n",
       "      <th>1</th>\n",
       "      <td>to talk about why you heard of such a case as ...</td>\n",
       "      <td>0</td>\n",
       "    </tr>\n",
       "    <tr>\n",
       "      <th>2</th>\n",
       "      <td>my foot on the ground and said i believe you d...</td>\n",
       "      <td>0</td>\n",
       "    </tr>\n",
       "    <tr>\n",
       "      <th>3</th>\n",
       "      <td>hour or wait for miss oh wait for by all means...</td>\n",
       "      <td>0</td>\n",
       "    </tr>\n",
       "    <tr>\n",
       "      <th>4</th>\n",
       "      <td>will not listen to such words now go and remem...</td>\n",
       "      <td>0</td>\n",
       "    </tr>\n",
       "  </tbody>\n",
       "</table>\n",
       "</div>"
      ],
      "text/plain": [
       "                                                text  author\n",
       "0  nt it seems te me how much money is he worth a...       0\n",
       "1  to talk about why you heard of such a case as ...       0\n",
       "2  my foot on the ground and said i believe you d...       0\n",
       "3  hour or wait for miss oh wait for by all means...       0\n",
       "4  will not listen to such words now go and remem...       0"
      ]
     },
     "execution_count": 10,
     "metadata": {},
     "output_type": "execute_result"
    }
   ],
   "source": [
    "test_df.head()"
   ]
  },
  {
   "cell_type": "markdown",
   "id": "7d264021",
   "metadata": {},
   "source": [
    "#### Get Authors Names"
   ]
  },
  {
   "cell_type": "code",
   "execution_count": 11,
   "id": "07d3ed31",
   "metadata": {},
   "outputs": [],
   "source": [
    "author_list_path='./dataset/author_list.txt'"
   ]
  },
  {
   "cell_type": "code",
   "execution_count": 12,
   "id": "d1d670b0",
   "metadata": {},
   "outputs": [],
   "source": [
    "train_df['author'] = train_df['author']-1"
   ]
  },
  {
   "cell_type": "code",
   "execution_count": 13,
   "id": "9c01adc3",
   "metadata": {},
   "outputs": [
    {
     "data": {
      "text/html": [
       "<div>\n",
       "<style scoped>\n",
       "    .dataframe tbody tr th:only-of-type {\n",
       "        vertical-align: middle;\n",
       "    }\n",
       "\n",
       "    .dataframe tbody tr th {\n",
       "        vertical-align: top;\n",
       "    }\n",
       "\n",
       "    .dataframe thead th {\n",
       "        text-align: right;\n",
       "    }\n",
       "</style>\n",
       "<table border=\"1\" class=\"dataframe\">\n",
       "  <thead>\n",
       "    <tr style=\"text-align: right;\">\n",
       "      <th></th>\n",
       "      <th>text</th>\n",
       "      <th>author</th>\n",
       "    </tr>\n",
       "  </thead>\n",
       "  <tbody>\n",
       "    <tr>\n",
       "      <th>0</th>\n",
       "      <td>ou have time to listen i will give you the ent...</td>\n",
       "      <td>0</td>\n",
       "    </tr>\n",
       "    <tr>\n",
       "      <th>1</th>\n",
       "      <td>wish for solitude he was twenty years of age a...</td>\n",
       "      <td>0</td>\n",
       "    </tr>\n",
       "    <tr>\n",
       "      <th>2</th>\n",
       "      <td>and the skirt blew in perfect freedom about th...</td>\n",
       "      <td>0</td>\n",
       "    </tr>\n",
       "    <tr>\n",
       "      <th>3</th>\n",
       "      <td>of san and the rows of shops opposite impresse...</td>\n",
       "      <td>0</td>\n",
       "    </tr>\n",
       "    <tr>\n",
       "      <th>4</th>\n",
       "      <td>an hour s walk was as tiresome as three in a s...</td>\n",
       "      <td>0</td>\n",
       "    </tr>\n",
       "  </tbody>\n",
       "</table>\n",
       "</div>"
      ],
      "text/plain": [
       "                                                text  author\n",
       "0  ou have time to listen i will give you the ent...       0\n",
       "1  wish for solitude he was twenty years of age a...       0\n",
       "2  and the skirt blew in perfect freedom about th...       0\n",
       "3  of san and the rows of shops opposite impresse...       0\n",
       "4  an hour s walk was as tiresome as three in a s...       0"
      ]
     },
     "execution_count": 13,
     "metadata": {},
     "output_type": "execute_result"
    }
   ],
   "source": [
    "train_df.head()"
   ]
  },
  {
   "cell_type": "code",
   "execution_count": 14,
   "id": "11cdac43",
   "metadata": {},
   "outputs": [],
   "source": [
    "#Get author list\n",
    "def load_author_names():\n",
    "    f = open(author_list_path, 'r')\n",
    "    author_list = f.read().split('\\n')\n",
    "    f.close()\n",
    "    author_catalog = {}\n",
    "    for i in range(len(author_list)):\n",
    "        author_catalog[i] = author_list[i]\n",
    "    return author_catalog"
   ]
  },
  {
   "cell_type": "code",
   "execution_count": 15,
   "id": "00e4a5cc",
   "metadata": {},
   "outputs": [
    {
     "name": "stdout",
     "output_type": "stream",
     "text": [
      "{0: 'Arthur Conan Doyle',\n",
      " 1: 'Charles Darwin',\n",
      " 2: 'Charles Dickens',\n",
      " 3: 'Edith Wharton',\n",
      " 4: 'George Eliot',\n",
      " 5: 'Horace Greeley',\n",
      " 6: 'Jack London',\n",
      " 7: 'James Baldwin',\n",
      " 8: 'Jane Austen',\n",
      " 9: 'John Muir',\n",
      " 10: 'Joseph Conrad',\n",
      " 11: 'Mark Twain',\n",
      " 12: 'Nathaniel Hawthorne',\n",
      " 13: 'Ralph Emerson',\n",
      " 14: 'Robert Louis Stevenson',\n",
      " 15: 'Rudyard Kipling',\n",
      " 16: 'Sinclair Lewis',\n",
      " 17: 'Theodore Dreiser',\n",
      " 18: 'Thomas Hardy',\n",
      " 19: 'Walt Whitman',\n",
      " 20: 'Washington Irving',\n",
      " 21: 'William Carleton',\n",
      " 22: 'Albert Ross',\n",
      " 23: 'Anne Manning',\n",
      " 24: 'Arlo Bates',\n",
      " 25: 'Bret Harte',\n",
      " 26: 'Catharine Maria Sedgwick',\n",
      " 27: 'Charles Reade',\n",
      " 28: 'Edward Eggleston',\n",
      " 29: 'Fergus Hume',\n",
      " 30: 'Frances Hodgson Burnett',\n",
      " 31: 'George Moore',\n",
      " 32: 'George William Curtis',\n",
      " 33: 'Helen Mathers',\n",
      " 34: 'Henry Rider Haggard',\n",
      " 35: 'Isabella Lucy Bird',\n",
      " 36: 'Jacob Abbott',\n",
      " 37: 'James Grant',\n",
      " 38: 'James Payn',\n",
      " 39: 'John Kendrick Bangs',\n",
      " 40: 'John Pendleton Kennedy',\n",
      " 41: 'John Strange Winter',\n",
      " 42: 'Lucas Malet',\n",
      " 43: 'Marie Corelli',\n",
      " 44: 'Oliver Optic',\n",
      " 45: 'Sarah Orne Jewett',\n",
      " 46: 'Sarah Stickney Ellis',\n",
      " 47: 'Thomas Anstey Guthrie',\n",
      " 48: 'Thomas Nelson Page',\n",
      " 49: 'William Black'}\n"
     ]
    }
   ],
   "source": [
    "pprint.pprint(load_author_names())"
   ]
  },
  {
   "cell_type": "markdown",
   "id": "7a485b8a-e029-4cc0-9607-a0e81d92f3c5",
   "metadata": {},
   "source": [
    "#### Plot showing distribution of authors in the Train Dataset"
   ]
  },
  {
   "cell_type": "code",
   "execution_count": 16,
   "id": "42c912be",
   "metadata": {},
   "outputs": [
    {
     "data": {
      "text/plain": [
       "array([[<AxesSubplot:title={'center':'author'}>]], dtype=object)"
      ]
     },
     "execution_count": 16,
     "metadata": {},
     "output_type": "execute_result"
    },
    {
     "data": {
      "image/png": "[encoded data removed]",
      "text/plain": [
       "<Figure size 432x288 with 1 Axes>"
      ]
     },
     "metadata": {
      "needs_background": "light"
     },
     "output_type": "display_data"
    }
   ],
   "source": [
    "train_df.hist(column='author',grid=False,bins=50,rwidth=1)"
   ]
  },
  {
   "cell_type": "code",
   "execution_count": 1,
   "id": "a94ed564",
   "metadata": {},
   "outputs": [],
   "source": [
    "#Get the Authors in dataframe\n",
    "def get_author_content_distribution(train_df):\n",
    "    author_catalog = load_author_names()\n",
    "    lookup_table = {}\n",
    "    for i in range(train_df['author'].count()):\n",
    "        author_id = train_df['author'].iloc[i]\n",
    "        try:\n",
    "            if(author_catalog[author_id] in lookup_table.keys()):\n",
    "                lookup_table[author_catalog[author_id]]+=1\n",
    "            else:\n",
    "                lookup_table[author_catalog[author_id]] = 1\n",
    "        except:\n",
    "            print(\"{} not present in Author list\".format(author_id))\n",
    "    return lookup_table"
   ]
  },
  {
   "cell_type": "code",
   "execution_count": 18,
   "id": "cde542df",
   "metadata": {},
   "outputs": [
    {
     "data": {
      "text/plain": [
       "45"
      ]
     },
     "execution_count": 18,
     "metadata": {},
     "output_type": "execute_result"
    }
   ],
   "source": [
    "authors_dist = get_author_content_distribution(train_df)\n",
    "len(authors_dist)"
   ]
  },
  {
   "cell_type": "markdown",
   "id": "8c8c0ad7",
   "metadata": {},
   "source": [
    "#### Split the training data"
   ]
  },
  {
   "cell_type": "code",
   "execution_count": 21,
   "id": "ba8e1de5",
   "metadata": {},
   "outputs": [],
   "source": [
    "from sklearn.model_selection import train_test_split"
   ]
  },
  {
   "cell_type": "code",
   "execution_count": 22,
   "id": "373007a4",
   "metadata": {},
   "outputs": [],
   "source": [
    "train_set, valid_set = train_test_split(train_df ,test_size=0.2,shuffle=True)"
   ]
  },
  {
   "cell_type": "code",
   "execution_count": 25,
   "id": "c1c66906",
   "metadata": {},
   "outputs": [],
   "source": [
    "from nltk.tokenize import word_tokenize"
   ]
  },
  {
   "cell_type": "code",
   "execution_count": 26,
   "id": "01cc4581-1b7f-476a-8822-7914040c1f52",
   "metadata": {},
   "outputs": [],
   "source": [
    "test_df['text_length'] = test_df['text'].apply(lambda x: len(x.split(\" \")))"
   ]
  },
  {
   "cell_type": "code",
   "execution_count": 27,
   "id": "3c419da2-d167-4a12-afb1-b97cbbc6c5a8",
   "metadata": {},
   "outputs": [
    {
     "data": {
      "text/html": [
       "<div>\n",
       "<style scoped>\n",
       "    .dataframe tbody tr th:only-of-type {\n",
       "        vertical-align: middle;\n",
       "    }\n",
       "\n",
       "    .dataframe tbody tr th {\n",
       "        vertical-align: top;\n",
       "    }\n",
       "\n",
       "    .dataframe thead th {\n",
       "        text-align: right;\n",
       "    }\n",
       "</style>\n",
       "<table border=\"1\" class=\"dataframe\">\n",
       "  <thead>\n",
       "    <tr style=\"text-align: right;\">\n",
       "      <th></th>\n",
       "      <th>text</th>\n",
       "      <th>author</th>\n",
       "      <th>text_length</th>\n",
       "    </tr>\n",
       "  </thead>\n",
       "  <tbody>\n",
       "    <tr>\n",
       "      <th>0</th>\n",
       "      <td>nt it seems te me how much money is he worth a...</td>\n",
       "      <td>0</td>\n",
       "      <td>1001</td>\n",
       "    </tr>\n",
       "    <tr>\n",
       "      <th>1</th>\n",
       "      <td>to talk about why you heard of such a case as ...</td>\n",
       "      <td>0</td>\n",
       "      <td>1001</td>\n",
       "    </tr>\n",
       "    <tr>\n",
       "      <th>2</th>\n",
       "      <td>my foot on the ground and said i believe you d...</td>\n",
       "      <td>0</td>\n",
       "      <td>1001</td>\n",
       "    </tr>\n",
       "    <tr>\n",
       "      <th>3</th>\n",
       "      <td>hour or wait for miss oh wait for by all means...</td>\n",
       "      <td>0</td>\n",
       "      <td>1001</td>\n",
       "    </tr>\n",
       "    <tr>\n",
       "      <th>4</th>\n",
       "      <td>will not listen to such words now go and remem...</td>\n",
       "      <td>0</td>\n",
       "      <td>1001</td>\n",
       "    </tr>\n",
       "  </tbody>\n",
       "</table>\n",
       "</div>"
      ],
      "text/plain": [
       "                                                text  author  text_length\n",
       "0  nt it seems te me how much money is he worth a...       0         1001\n",
       "1  to talk about why you heard of such a case as ...       0         1001\n",
       "2  my foot on the ground and said i believe you d...       0         1001\n",
       "3  hour or wait for miss oh wait for by all means...       0         1001\n",
       "4  will not listen to such words now go and remem...       0         1001"
      ]
     },
     "execution_count": 27,
     "metadata": {},
     "output_type": "execute_result"
    }
   ],
   "source": [
    "test_df.head()"
   ]
  },
  {
   "cell_type": "code",
   "execution_count": null,
   "id": "ec15593b",
   "metadata": {},
   "outputs": [],
   "source": [
    "train_set['text'] = train_set['text'].apply(lambda x:\" \".join(word_tokenize(x)))\n",
    "train_set.head()"
   ]
  },
  {
   "cell_type": "code",
   "execution_count": null,
   "id": "506bb1e8",
   "metadata": {},
   "outputs": [],
   "source": [
    "train_set['text_length'] = train_set['text'].apply(lambda x: len(x.split(\" \")))"
   ]
  },
  {
   "cell_type": "code",
   "execution_count": null,
   "id": "163619c9",
   "metadata": {},
   "outputs": [],
   "source": [
    "train_set.head()"
   ]
  },
  {
   "cell_type": "code",
   "execution_count": null,
   "id": "647f7fe4",
   "metadata": {
    "scrolled": true
   },
   "outputs": [],
   "source": [
    "train_set['text_length'].hist(grid=False,rwidth=2)"
   ]
  },
  {
   "cell_type": "code",
   "execution_count": null,
   "id": "cddc0371",
   "metadata": {},
   "outputs": [],
   "source": [
    "MAX_SENTENCE_LENGTH = train_set['text_length'].max()\n",
    "EMBEDDING_DIM = 100"
   ]
  },
  {
   "cell_type": "code",
   "execution_count": 28,
   "id": "865a7c00-5b78-451d-9dd4-6e3a402d715f",
   "metadata": {},
   "outputs": [],
   "source": [
    "MAX_SENTENCE_LENGTH = test_df['text_length'].max()\n",
    "EMBEDDING_DIM = 100"
   ]
  },
  {
   "cell_type": "markdown",
   "id": "47e2e22a-1de7-427e-bf2e-885374297b2c",
   "metadata": {
    "tags": []
   },
   "source": [
    "# Generate embeddings for each text entry in training dataframe and Save in a Pickle File"
   ]
  },
  {
   "cell_type": "markdown",
   "id": "583b90cf-37e3-41fa-9faa-4b84473f01e9",
   "metadata": {},
   "source": [
    "#### Generate Glove Embeddings"
   ]
  },
  {
   "cell_type": "code",
   "execution_count": 29,
   "id": "2be3e329",
   "metadata": {},
   "outputs": [],
   "source": [
    "embedding_dictionary = {}\n",
    "with open('./glove/glove.6B.100d.txt','r',encoding=\"utf8\") as glove_file:\n",
    "    for line in glove_file:\n",
    "        values=line.split()\n",
    "        word=values[0]\n",
    "        vectors=np.asarray(values[1:],'float32')\n",
    "        embedding_dictionary[word]=vectors\n",
    "glove_file.close()"
   ]
  },
  {
   "cell_type": "code",
   "execution_count": 30,
   "id": "7db56e95",
   "metadata": {},
   "outputs": [],
   "source": [
    "#Generate Embedding Matrix\n",
    "def generate_word_embeddings(text):\n",
    "    embedding_matrix = torch.zeros((MAX_SENTENCE_LENGTH, EMBEDDING_DIM))\n",
    "    for idx, word in enumerate(text.split(\" \")):\n",
    "        if(idx>1007):\n",
    "            break\n",
    "        if(word in embedding_dictionary):\n",
    "            embedding_vector = torch.from_numpy(embedding_dictionary.get(word))\n",
    "            if(embedding_vector is not None):\n",
    "                embedding_matrix[idx] = embedding_vector\n",
    "    return embedding_matrix"
   ]
  },
  {
   "cell_type": "code",
   "execution_count": 31,
   "id": "d177e8bd-872a-4173-ab1c-549ebe30d06a",
   "metadata": {},
   "outputs": [],
   "source": [
    "test_df['embeddings'] = test_df['text'].apply(lambda x:generate_word_embeddings(x))"
   ]
  },
  {
   "cell_type": "code",
   "execution_count": 32,
   "id": "c0aaa320-f5e4-4948-aace-71a20e5c1d7b",
   "metadata": {},
   "outputs": [
    {
     "data": {
      "text/html": [
       "<div>\n",
       "<style scoped>\n",
       "    .dataframe tbody tr th:only-of-type {\n",
       "        vertical-align: middle;\n",
       "    }\n",
       "\n",
       "    .dataframe tbody tr th {\n",
       "        vertical-align: top;\n",
       "    }\n",
       "\n",
       "    .dataframe thead th {\n",
       "        text-align: right;\n",
       "    }\n",
       "</style>\n",
       "<table border=\"1\" class=\"dataframe\">\n",
       "  <thead>\n",
       "    <tr style=\"text-align: right;\">\n",
       "      <th></th>\n",
       "      <th>text</th>\n",
       "      <th>author</th>\n",
       "      <th>text_length</th>\n",
       "      <th>embeddings</th>\n",
       "    </tr>\n",
       "  </thead>\n",
       "  <tbody>\n",
       "    <tr>\n",
       "      <th>0</th>\n",
       "      <td>nt it seems te me how much money is he worth a...</td>\n",
       "      <td>0</td>\n",
       "      <td>1001</td>\n",
       "      <td>[[tensor(0.3181), tensor(1.0088), tensor(-0.26...</td>\n",
       "    </tr>\n",
       "    <tr>\n",
       "      <th>1</th>\n",
       "      <td>to talk about why you heard of such a case as ...</td>\n",
       "      <td>0</td>\n",
       "      <td>1001</td>\n",
       "      <td>[[tensor(-0.1897), tensor(0.0500), tensor(0.19...</td>\n",
       "    </tr>\n",
       "    <tr>\n",
       "      <th>2</th>\n",
       "      <td>my foot on the ground and said i believe you d...</td>\n",
       "      <td>0</td>\n",
       "      <td>1001</td>\n",
       "      <td>[[tensor(0.0803), tensor(-0.1086), tensor(0.72...</td>\n",
       "    </tr>\n",
       "    <tr>\n",
       "      <th>3</th>\n",
       "      <td>hour or wait for miss oh wait for by all means...</td>\n",
       "      <td>0</td>\n",
       "      <td>1001</td>\n",
       "      <td>[[tensor(-0.3571), tensor(-0.2348), tensor(0.0...</td>\n",
       "    </tr>\n",
       "    <tr>\n",
       "      <th>4</th>\n",
       "      <td>will not listen to such words now go and remem...</td>\n",
       "      <td>0</td>\n",
       "      <td>1001</td>\n",
       "      <td>[[tensor(-0.2670), tensor(0.4491), tensor(0.55...</td>\n",
       "    </tr>\n",
       "  </tbody>\n",
       "</table>\n",
       "</div>"
      ],
      "text/plain": [
       "                                                text  author  text_length  \\\n",
       "0  nt it seems te me how much money is he worth a...       0         1001   \n",
       "1  to talk about why you heard of such a case as ...       0         1001   \n",
       "2  my foot on the ground and said i believe you d...       0         1001   \n",
       "3  hour or wait for miss oh wait for by all means...       0         1001   \n",
       "4  will not listen to such words now go and remem...       0         1001   \n",
       "\n",
       "                                          embeddings  \n",
       "0  [[tensor(0.3181), tensor(1.0088), tensor(-0.26...  \n",
       "1  [[tensor(-0.1897), tensor(0.0500), tensor(0.19...  \n",
       "2  [[tensor(0.0803), tensor(-0.1086), tensor(0.72...  \n",
       "3  [[tensor(-0.3571), tensor(-0.2348), tensor(0.0...  \n",
       "4  [[tensor(-0.2670), tensor(0.4491), tensor(0.55...  "
      ]
     },
     "execution_count": 32,
     "metadata": {},
     "output_type": "execute_result"
    }
   ],
   "source": [
    "test_df.head()"
   ]
  },
  {
   "cell_type": "code",
   "execution_count": null,
   "id": "0d47ec77",
   "metadata": {},
   "outputs": [],
   "source": [
    "train_set['embeddings'] = train_set['text'].apply(lambda x:generate_word_embeddings(x))"
   ]
  },
  {
   "cell_type": "markdown",
   "id": "7b894580-3359-42b5-ab47-82ec4dfc3cfb",
   "metadata": {},
   "source": [
    "#### Save the embeddings in a pickle file"
   ]
  },
  {
   "cell_type": "code",
   "execution_count": null,
   "id": "49c30b6e",
   "metadata": {},
   "outputs": [],
   "source": [
    "train_set.to_pickle('auth_id_train_df.pkl')"
   ]
  },
  {
   "cell_type": "code",
   "execution_count": null,
   "id": "08d01b14",
   "metadata": {
    "scrolled": true
   },
   "outputs": [],
   "source": [
    "valid_set['embeddings'] = valid_set['text'].apply(lambda x:generate_word_embeddings(x))"
   ]
  },
  {
   "cell_type": "code",
   "execution_count": null,
   "id": "384117da",
   "metadata": {},
   "outputs": [],
   "source": [
    "valid_set.to_pickle('auth_id_valid_df.pkl')"
   ]
  },
  {
   "cell_type": "markdown",
   "id": "b8584a1d-44d0-424b-afe2-9ae4f24a26c6",
   "metadata": {},
   "source": [
    "# Build LSTM Model"
   ]
  },
  {
   "cell_type": "code",
   "execution_count": 33,
   "id": "8e532eb2",
   "metadata": {},
   "outputs": [],
   "source": [
    "class LSTM(nn.Module):\n",
    "    def __init__(self,input_dim,hidden_dim,num_layers,out_dim):\n",
    "        super(LSTM,self).__init__()\n",
    "        \n",
    "        #Hidden Dimensions\n",
    "        self.hidden_dim = hidden_dim\n",
    "        \n",
    "        #Number of Hidden Layers\n",
    "        self.num_layers = num_layers\n",
    "        \n",
    "        #Building LSTM\n",
    "        self.lstm = nn.LSTM(input_dim,hidden_dim,num_layers, batch_first = True)\n",
    "        self.sequential = nn.Sequential(nn.Linear(hidden_dim, 2*hidden_dim),nn.ReLU(),nn.Linear(2*hidden_dim, hidden_dim),nn.ReLU())\n",
    "\n",
    "        self.fc = nn.Linear(hidden_dim, out_dim)\n",
    "    \n",
    "    def forward(self,x):\n",
    "        out, (hn, cn) = self.lstm(x)\n",
    "        out = self.fc(out[:, -1, :])\n",
    "        return out"
   ]
  },
  {
   "cell_type": "markdown",
   "id": "d01b959b-d6ab-4f20-aa1b-7def72323bad",
   "metadata": {},
   "source": [
    "# Build Custom Dataset"
   ]
  },
  {
   "cell_type": "code",
   "execution_count": 34,
   "id": "c76126cd",
   "metadata": {},
   "outputs": [],
   "source": [
    "class AuthorTextDataset(torch.utils.data.Dataset):\n",
    "    def __init__(self,dataframe):\n",
    "        embeddings = dataframe['embeddings'].values\n",
    "        authors = dataframe['author'].values\n",
    "        \n",
    "        self.x = embeddings\n",
    "        self.y = torch.tensor(authors)\n",
    "    \n",
    "    def __len__(self):\n",
    "        return len(self.x)\n",
    "    \n",
    "    def __getitem__(self,idx):\n",
    "        return self.x[idx],self.y[idx]"
   ]
  },
  {
   "cell_type": "markdown",
   "id": "b26a5174-3350-464d-909e-71ce579657cf",
   "metadata": {},
   "source": [
    "#### Load the Saved Embedding Space"
   ]
  },
  {
   "cell_type": "code",
   "execution_count": 35,
   "id": "619f0c81",
   "metadata": {},
   "outputs": [
    {
     "name": "stdout",
     "output_type": "stream",
     "text": [
      "CPU times: total: 14.7 s\n",
      "Wall time: 1min 25s\n"
     ]
    }
   ],
   "source": [
    "%time train_set = pd.read_pickle(\"./auth_id_train_df.pkl\")"
   ]
  },
  {
   "cell_type": "code",
   "execution_count": 36,
   "id": "069ff81d-fa92-4649-b72c-a4a61f331a0e",
   "metadata": {},
   "outputs": [
    {
     "name": "stdout",
     "output_type": "stream",
     "text": [
      "CPU times: total: 8.88 s\n",
      "Wall time: 15.4 s\n"
     ]
    }
   ],
   "source": [
    "%time valid_set = pd.read_pickle(\"./auth_id_valid_df.pkl\")"
   ]
  },
  {
   "cell_type": "code",
   "execution_count": 37,
   "id": "3f001ce8-29f5-45ad-badb-38354208dedb",
   "metadata": {},
   "outputs": [
    {
     "data": {
      "text/html": [
       "<div>\n",
       "<style scoped>\n",
       "    .dataframe tbody tr th:only-of-type {\n",
       "        vertical-align: middle;\n",
       "    }\n",
       "\n",
       "    .dataframe tbody tr th {\n",
       "        vertical-align: top;\n",
       "    }\n",
       "\n",
       "    .dataframe thead th {\n",
       "        text-align: right;\n",
       "    }\n",
       "</style>\n",
       "<table border=\"1\" class=\"dataframe\">\n",
       "  <thead>\n",
       "    <tr style=\"text-align: right;\">\n",
       "      <th></th>\n",
       "      <th>text</th>\n",
       "      <th>author</th>\n",
       "      <th>embeddings</th>\n",
       "    </tr>\n",
       "  </thead>\n",
       "  <tbody>\n",
       "    <tr>\n",
       "      <th>3875</th>\n",
       "      <td>admired in others from having been long in a d...</td>\n",
       "      <td>7</td>\n",
       "      <td>[[tensor(-0.2128), tensor(0.5968), tensor(-0.2...</td>\n",
       "    </tr>\n",
       "    <tr>\n",
       "      <th>40589</th>\n",
       "      <td>observed was in the habit of leaving the house...</td>\n",
       "      <td>37</td>\n",
       "      <td>[[tensor(-0.6898), tensor(0.0356), tensor(-0.5...</td>\n",
       "    </tr>\n",
       "    <tr>\n",
       "      <th>11295</th>\n",
       "      <td>black thing but that is why i like you is dark...</td>\n",
       "      <td>8</td>\n",
       "      <td>[[tensor(-0.0574), tensor(0.6859), tensor(0.16...</td>\n",
       "    </tr>\n",
       "    <tr>\n",
       "      <th>35380</th>\n",
       "      <td>â he knew not why â except that he was always ...</td>\n",
       "      <td>32</td>\n",
       "      <td>[[tensor(0.0079), tensor(0.8056), tensor(-0.22...</td>\n",
       "    </tr>\n",
       "    <tr>\n",
       "      <th>36072</th>\n",
       "      <td>it expedient to set down benefit of the who ca...</td>\n",
       "      <td>32</td>\n",
       "      <td>[[tensor(-0.3066), tensor(0.1682), tensor(0.98...</td>\n",
       "    </tr>\n",
       "  </tbody>\n",
       "</table>\n",
       "</div>"
      ],
      "text/plain": [
       "                                                    text  author  \\\n",
       "3875   admired in others from having been long in a d...       7   \n",
       "40589  observed was in the habit of leaving the house...      37   \n",
       "11295  black thing but that is why i like you is dark...       8   \n",
       "35380  â he knew not why â except that he was always ...      32   \n",
       "36072  it expedient to set down benefit of the who ca...      32   \n",
       "\n",
       "                                              embeddings  \n",
       "3875   [[tensor(-0.2128), tensor(0.5968), tensor(-0.2...  \n",
       "40589  [[tensor(-0.6898), tensor(0.0356), tensor(-0.5...  \n",
       "11295  [[tensor(-0.0574), tensor(0.6859), tensor(0.16...  \n",
       "35380  [[tensor(0.0079), tensor(0.8056), tensor(-0.22...  \n",
       "36072  [[tensor(-0.3066), tensor(0.1682), tensor(0.98...  "
      ]
     },
     "execution_count": 37,
     "metadata": {},
     "output_type": "execute_result"
    }
   ],
   "source": [
    "valid_set.head()"
   ]
  },
  {
   "cell_type": "markdown",
   "id": "205d1360-97ec-43de-8549-cd5bda3a17cb",
   "metadata": {},
   "source": [
    "# Generate Dataloaders"
   ]
  },
  {
   "cell_type": "code",
   "execution_count": 51,
   "id": "a71ab792",
   "metadata": {},
   "outputs": [],
   "source": [
    "train_dataset = AuthorTextDataset(train_set)\n",
    "train_dataloader = torch.utils.data.DataLoader(train_dataset,batch_size=128,shuffle=False)\n",
    "\n",
    "validation_dataset = AuthorTextDataset(valid_set)\n",
    "validation_dataloader = torch.utils.data.DataLoader(validation_dataset,batch_size=128,shuffle=False)"
   ]
  },
  {
   "cell_type": "code",
   "execution_count": 52,
   "id": "afb3db1c-c4fe-432f-91db-d3dcd9fe8d2a",
   "metadata": {},
   "outputs": [],
   "source": [
    "test_dataset = AuthorTextDataset(test_df)\n",
    "test_dataloader = torch.utils.data.DataLoader(test_dataset,batch_size=32,shuffle=False)"
   ]
  },
  {
   "cell_type": "code",
   "execution_count": 53,
   "id": "ea0c9511",
   "metadata": {},
   "outputs": [
    {
     "name": "stdout",
     "output_type": "stream",
     "text": [
      "torch.Size([128, 1008, 100])\n"
     ]
    }
   ],
   "source": [
    "examples = enumerate(train_dataloader)\n",
    "batch_idx, (example_data,example_targets) = next(examples)\n",
    "print(example_data.shape)"
   ]
  },
  {
   "cell_type": "code",
   "execution_count": 54,
   "id": "ef0941e8",
   "metadata": {},
   "outputs": [
    {
     "name": "stdout",
     "output_type": "stream",
     "text": [
      "Total Number of batches:  336\n"
     ]
    }
   ],
   "source": [
    "counter=0\n",
    "for idx,(data,labels) in enumerate(train_dataloader):\n",
    "    counter+=1\n",
    "print(\"Total Number of batches: \",counter)"
   ]
  },
  {
   "cell_type": "code",
   "execution_count": 55,
   "id": "b58087a5",
   "metadata": {},
   "outputs": [],
   "source": [
    "def get_device():\n",
    "#     return torch.device(\"cpu\")\n",
    "    if(torch.cuda.is_available()):\n",
    "        return torch.device(\"cuda\")\n",
    "    else:\n",
    "        return torch.device(\"cpu\")"
   ]
  },
  {
   "cell_type": "code",
   "execution_count": 56,
   "id": "13811433",
   "metadata": {},
   "outputs": [
    {
     "name": "stdout",
     "output_type": "stream",
     "text": [
      "cuda\n"
     ]
    }
   ],
   "source": [
    "print(get_device())"
   ]
  },
  {
   "cell_type": "markdown",
   "id": "721d00ed-8f7f-471c-ac1d-a71c875c579b",
   "metadata": {},
   "source": [
    "# Training and Validation Pipeline"
   ]
  },
  {
   "cell_type": "markdown",
   "id": "3768cdb6-a0cd-4919-b313-4dfbec71c703",
   "metadata": {},
   "source": [
    "#### Train Method"
   ]
  },
  {
   "cell_type": "markdown",
   "id": "ac219161-b43f-4a77-83d8-432c3d360b75",
   "metadata": {},
   "source": [
    "The train method iterates through the dataloader to get the predicted values from the model, calculate loss and return average train loss for each epoch."
   ]
  },
  {
   "cell_type": "code",
   "execution_count": 57,
   "id": "2d088872",
   "metadata": {},
   "outputs": [],
   "source": [
    "def train(model,data_loader, optimizer, criterion, device):\n",
    "    model.to(device)\n",
    "    model.train()\n",
    "    correct = 0\n",
    "    total = 0\n",
    "    num_batches = 0\n",
    "    train_loss = 0.0\n",
    "    train_acc = 0.0\n",
    "    for batch_idx, (feature_data,labels) in tqdm(enumerate(data_loader)):\n",
    "        feature_data = feature_data.to(device)\n",
    "        labels = labels.to(device)\n",
    "        optimizer.zero_grad()\n",
    "        output = model(feature_data)\n",
    "        loss = criterion(output,labels)\n",
    "        loss.backward()\n",
    "        optimizer.step()\n",
    "        _, predicted = torch.max(output.data, 1)\n",
    "        correct += (predicted == labels).sum()\n",
    "        total += labels.size(0)        \n",
    "        train_loss += loss.item()\n",
    "        num_batches+=1\n",
    "        \n",
    "    train_acc = 100 * correct / total\n",
    "    return train_loss/num_batches,train_acc"
   ]
  },
  {
   "cell_type": "markdown",
   "id": "40edab97-5c16-470f-889a-cb5620ea7b7e",
   "metadata": {},
   "source": [
    "#### Validation Method"
   ]
  },
  {
   "cell_type": "markdown",
   "id": "d996012f-fe29-4acb-bb7d-8aff27a56db2",
   "metadata": {},
   "source": [
    "The test method iterates through the dataloader to get the compare predicted and ground truth values, it return average validation loss and accuracy of model."
   ]
  },
  {
   "cell_type": "code",
   "execution_count": 58,
   "id": "02a2eae2",
   "metadata": {},
   "outputs": [],
   "source": [
    "def validate(model,data_loader, optimizer, criterion, device):\n",
    "    model.to(device)\n",
    "    model.eval()\n",
    "    \n",
    "    correct = 0\n",
    "    total = 0\n",
    "    \n",
    "    num_batches = 0\n",
    "    val_loss = 0.0\n",
    "    val_acc = 0.0\n",
    "    for batch_idx,(feature_data,labels) in tqdm(enumerate(data_loader)):\n",
    "        feature_data = feature_data.to(device)\n",
    "        labels = labels.to(device)\n",
    "        output = model(feature_data)\n",
    "        loss = criterion(output,labels)\n",
    "        _,predicted = torch.max(output.data,1)\n",
    "        correct += (predicted == labels).sum()\n",
    "        total += labels.size(0)\n",
    "        val_loss += loss.item()\n",
    "        num_batches+=1\n",
    "    val_acc = 100 * correct / total\n",
    "    return val_loss/num_batches,val_acc"
   ]
  },
  {
   "cell_type": "markdown",
   "id": "1ab9fc5a-da81-4420-a518-7586b1d2bc7e",
   "metadata": {},
   "source": [
    "#### Training and Validation Pipeline"
   ]
  },
  {
   "cell_type": "markdown",
   "id": "962fae4a-f65b-4f01-b547-70bcd9340bc4",
   "metadata": {},
   "source": [
    "The training and validation pipeline collects train and validation loss along with accuracies and saves the model with maximum validation accuracy."
   ]
  },
  {
   "cell_type": "code",
   "execution_count": 4,
   "id": "54e69a66",
   "metadata": {},
   "outputs": [],
   "source": [
    "def fit_model(model,num_epochs,train_dl,validation_dl,best_model):\n",
    "    test_losses=[]\n",
    "    test_accuracies = []\n",
    "    train_losses=[]\n",
    "    train_accuracies=[]\n",
    "    \n",
    "    max_accuracy = -float('inf')\n",
    "    best_model = model\n",
    "    learn_rate = 0.01\n",
    "    \n",
    "    device = get_device()\n",
    "    \n",
    "    criterion = torch.nn.CrossEntropyLoss()\n",
    "    optimizer = torch.optim.Adam(model.parameters(), lr=learn_rate)\n",
    "    \n",
    "    for epoch in range(num_epochs):\n",
    "        train_loss, train_acc = train(model,train_dl, optimizer, criterion, device)\n",
    "        test_loss, test_acc = validate(model,validation_dl, optimizer, criterion, device)\n",
    "        \n",
    "        print(\"Epoch:{}, Train Loss: {:.4f}, Train Accuracy: {:.4f}, Valid Loss: {:.4f}, Valid Accuracy: {:.4f}\"\n",
    "                  .format(epoch,train_loss,train_acc,test_loss,test_acc))\n",
    "        \n",
    "        train_losses.append(train_loss)\n",
    "        test_losses.append(test_loss)\n",
    "    \n",
    "        if(test_acc>max_accuracy):\n",
    "            torch.save(model,'ai_lstm_bs_model.pth')\n",
    "            #best_model = copy.deepcopy(model)\n",
    "            max_accuracy = test_acc\n",
    "            print(\"Saving Best Model with Accuracy: \", max_accuracy)\n",
    "    \n",
    "    plot_loss(num_epochs,train_losses,test_losses)\n",
    "    return best_model,max_accuracy"
   ]
  },
  {
   "cell_type": "code",
   "execution_count": 1,
   "id": "14f30b10",
   "metadata": {},
   "outputs": [],
   "source": [
    "#Function to plot the Loss function values observed in both training and test\n",
    "def plot_loss(num_epochs,train_losses,test_losses):\n",
    "    \n",
    "    # Using Numpy to create an array X\n",
    "    X = range(num_epochs)\n",
    "    \n",
    "    # Assign variables to the y axis part of the curve\n",
    "    y = train_losses\n",
    "    z = test_losses\n",
    "    \n",
    "    plt.plot(X,y,color='blue')\n",
    "    plt.plot(X,z,color='red')\n",
    "    plt.legend(['Train Loss','Validation Loss'],loc='upper right')\n",
    "    plt.xlabel('Epochs')\n",
    "    plt.ylabel('Loss')\n",
    "    plt.title(\"Training and Validation Losses\")"
   ]
  },
  {
   "cell_type": "markdown",
   "id": "9c2775c1-c9a3-4926-920d-86d0edaa12fe",
   "metadata": {},
   "source": [
    "# Model Initialization: LSTM with 128 neurons and 2 hidden layer"
   ]
  },
  {
   "cell_type": "code",
   "execution_count": 62,
   "id": "f9f35c04",
   "metadata": {},
   "outputs": [
    {
     "name": "stdout",
     "output_type": "stream",
     "text": [
      "LSTM(\n",
      "  (lstm): LSTM(100, 128, num_layers=2, batch_first=True)\n",
      "  (sequential): Sequential(\n",
      "    (0): Linear(in_features=128, out_features=256, bias=True)\n",
      "    (1): ReLU()\n",
      "    (2): Linear(in_features=256, out_features=128, bias=True)\n",
      "    (3): ReLU()\n",
      "  )\n",
      "  (fc): Linear(in_features=128, out_features=50, bias=True)\n",
      ")\n"
     ]
    }
   ],
   "source": [
    "input_dim = 100 #10 previous stock values\n",
    "hidden_dim = 128\n",
    "num_layers = 2\n",
    "output_dim = 50\n",
    "\n",
    "random_seed = 2\n",
    "torch.backends.cudnn.enabled = False\n",
    "torch.manual_seed(random_seed)\n",
    "\n",
    "model = LSTM(input_dim=input_dim, hidden_dim=hidden_dim,out_dim=output_dim, num_layers=num_layers)\n",
    "print(model)"
   ]
  },
  {
   "cell_type": "markdown",
   "id": "a46d6534-d2f9-4aeb-85e0-c4ca52733a2e",
   "metadata": {},
   "source": [
    "### Start of model training and validation process"
   ]
  },
  {
   "cell_type": "code",
   "execution_count": 63,
   "id": "e2c16598",
   "metadata": {
    "scrolled": true
   },
   "outputs": [
    {
     "name": "stderr",
     "output_type": "stream",
     "text": [
      "336it [06:16,  1.12s/it]\n",
      "84it [00:33,  2.48it/s]\n"
     ]
    },
    {
     "name": "stdout",
     "output_type": "stream",
     "text": [
      "Epoch:0, Train Loss: 3.3495, Train Accuracy: 16.7994, Valid Loss: 3.1485, Valid Accuracy: 20.8458\n",
      "Saving Best Model with Accuracy:  tensor(20.8458, device='cuda:0')\n"
     ]
    },
    {
     "name": "stderr",
     "output_type": "stream",
     "text": [
      "336it [09:43,  1.74s/it]\n",
      "84it [01:01,  1.37it/s]\n"
     ]
    },
    {
     "name": "stdout",
     "output_type": "stream",
     "text": [
      "Epoch:1, Train Loss: 2.7847, Train Accuracy: 26.8385, Valid Loss: 2.5374, Valid Accuracy: 30.2161\n",
      "Saving Best Model with Accuracy:  tensor(30.2161, device='cuda:0')\n"
     ]
    },
    {
     "name": "stderr",
     "output_type": "stream",
     "text": [
      "336it [07:16,  1.30s/it]\n",
      "84it [00:32,  2.61it/s]\n"
     ]
    },
    {
     "name": "stdout",
     "output_type": "stream",
     "text": [
      "Epoch:2, Train Loss: 2.2859, Train Accuracy: 36.3025, Valid Loss: 2.2454, Valid Accuracy: 37.5186\n",
      "Saving Best Model with Accuracy:  tensor(37.5186, device='cuda:0')\n"
     ]
    },
    {
     "name": "stderr",
     "output_type": "stream",
     "text": [
      "336it [06:28,  1.16s/it]\n",
      "84it [00:33,  2.51it/s]\n"
     ]
    },
    {
     "name": "stdout",
     "output_type": "stream",
     "text": [
      "Epoch:3, Train Loss: 1.9791, Train Accuracy: 43.9383, Valid Loss: 1.9150, Valid Accuracy: 46.5630\n",
      "Saving Best Model with Accuracy:  tensor(46.5630, device='cuda:0')\n"
     ]
    },
    {
     "name": "stderr",
     "output_type": "stream",
     "text": [
      "336it [06:24,  1.15s/it]\n",
      "84it [00:32,  2.58it/s]\n"
     ]
    },
    {
     "name": "stdout",
     "output_type": "stream",
     "text": [
      "Epoch:4, Train Loss: 1.6829, Train Accuracy: 52.2216, Valid Loss: 1.8508, Valid Accuracy: 48.1464\n",
      "Saving Best Model with Accuracy:  tensor(48.1464, device='cuda:0')\n"
     ]
    },
    {
     "name": "stderr",
     "output_type": "stream",
     "text": [
      "336it [06:21,  1.13s/it]\n",
      "84it [00:32,  2.61it/s]\n"
     ]
    },
    {
     "name": "stdout",
     "output_type": "stream",
     "text": [
      "Epoch:5, Train Loss: 1.4602, Train Accuracy: 58.2437, Valid Loss: 1.5821, Valid Accuracy: 55.9519\n",
      "Saving Best Model with Accuracy:  tensor(55.9519, device='cuda:0')\n"
     ]
    },
    {
     "name": "stderr",
     "output_type": "stream",
     "text": [
      "336it [06:23,  1.14s/it]\n",
      "84it [00:31,  2.63it/s]\n"
     ]
    },
    {
     "name": "stdout",
     "output_type": "stream",
     "text": [
      "Epoch:6, Train Loss: 1.2934, Train Accuracy: 62.8685, Valid Loss: 1.3868, Valid Accuracy: 60.4322\n",
      "Saving Best Model with Accuracy:  tensor(60.4322, device='cuda:0')\n"
     ]
    },
    {
     "name": "stderr",
     "output_type": "stream",
     "text": [
      "336it [06:16,  1.12s/it]\n",
      "84it [00:31,  2.64it/s]\n"
     ]
    },
    {
     "name": "stdout",
     "output_type": "stream",
     "text": [
      "Epoch:7, Train Loss: 1.1670, Train Accuracy: 66.1357, Valid Loss: 1.3757, Valid Accuracy: 61.7921\n",
      "Saving Best Model with Accuracy:  tensor(61.7921, device='cuda:0')\n"
     ]
    },
    {
     "name": "stderr",
     "output_type": "stream",
     "text": [
      "336it [06:12,  1.11s/it]\n",
      "84it [00:31,  2.64it/s]\n"
     ]
    },
    {
     "name": "stdout",
     "output_type": "stream",
     "text": [
      "Epoch:8, Train Loss: 1.0620, Train Accuracy: 68.7439, Valid Loss: 1.3178, Valid Accuracy: 63.1054\n",
      "Saving Best Model with Accuracy:  tensor(63.1054, device='cuda:0')\n"
     ]
    },
    {
     "name": "stderr",
     "output_type": "stream",
     "text": [
      "336it [06:25,  1.15s/it]\n",
      "84it [00:32,  2.57it/s]\n"
     ]
    },
    {
     "name": "stdout",
     "output_type": "stream",
     "text": [
      "Epoch:9, Train Loss: 0.9777, Train Accuracy: 71.3101, Valid Loss: 1.2951, Valid Accuracy: 64.4840\n",
      "Saving Best Model with Accuracy:  tensor(64.4840, device='cuda:0')\n"
     ]
    },
    {
     "name": "stderr",
     "output_type": "stream",
     "text": [
      "336it [06:29,  1.16s/it]\n",
      "84it [00:32,  2.60it/s]\n"
     ]
    },
    {
     "name": "stdout",
     "output_type": "stream",
     "text": [
      "Epoch:10, Train Loss: 0.9196, Train Accuracy: 72.7539, Valid Loss: 1.2125, Valid Accuracy: 66.7101\n",
      "Saving Best Model with Accuracy:  tensor(66.7101, device='cuda:0')\n"
     ]
    },
    {
     "name": "stderr",
     "output_type": "stream",
     "text": [
      "336it [06:22,  1.14s/it]\n",
      "84it [00:31,  2.64it/s]\n"
     ]
    },
    {
     "name": "stdout",
     "output_type": "stream",
     "text": [
      "Epoch:11, Train Loss: 0.8635, Train Accuracy: 74.2723, Valid Loss: 1.3483, Valid Accuracy: 63.8413\n"
     ]
    },
    {
     "name": "stderr",
     "output_type": "stream",
     "text": [
      "336it [06:25,  1.15s/it]\n",
      "84it [00:31,  2.63it/s]\n"
     ]
    },
    {
     "name": "stdout",
     "output_type": "stream",
     "text": [
      "Epoch:12, Train Loss: 0.8086, Train Accuracy: 75.8302, Valid Loss: 1.1947, Valid Accuracy: 67.2690\n",
      "Saving Best Model with Accuracy:  tensor(67.2690, device='cuda:0')\n"
     ]
    },
    {
     "name": "stderr",
     "output_type": "stream",
     "text": [
      "336it [06:30,  1.16s/it]\n",
      "84it [00:32,  2.61it/s]\n"
     ]
    },
    {
     "name": "stdout",
     "output_type": "stream",
     "text": [
      "Epoch:13, Train Loss: 0.7412, Train Accuracy: 77.9167, Valid Loss: 1.2747, Valid Accuracy: 65.8998\n"
     ]
    },
    {
     "name": "stderr",
     "output_type": "stream",
     "text": [
      "336it [06:27,  1.15s/it]\n",
      "84it [00:31,  2.64it/s]\n"
     ]
    },
    {
     "name": "stdout",
     "output_type": "stream",
     "text": [
      "Epoch:14, Train Loss: 0.7099, Train Accuracy: 78.4873, Valid Loss: 1.2927, Valid Accuracy: 65.7507\n"
     ]
    },
    {
     "name": "stderr",
     "output_type": "stream",
     "text": [
      "336it [06:26,  1.15s/it]\n",
      "84it [00:31,  2.63it/s]\n"
     ]
    },
    {
     "name": "stdout",
     "output_type": "stream",
     "text": [
      "Epoch:15, Train Loss: 0.6969, Train Accuracy: 79.0648, Valid Loss: 1.2637, Valid Accuracy: 66.4680\n"
     ]
    },
    {
     "name": "stderr",
     "output_type": "stream",
     "text": [
      "336it [06:27,  1.15s/it]\n",
      "84it [00:33,  2.54it/s]\n"
     ]
    },
    {
     "name": "stdout",
     "output_type": "stream",
     "text": [
      "Epoch:16, Train Loss: 0.6371, Train Accuracy: 80.7904, Valid Loss: 1.2197, Valid Accuracy: 68.7127\n",
      "Saving Best Model with Accuracy:  tensor(68.7127, device='cuda:0')\n"
     ]
    },
    {
     "name": "stderr",
     "output_type": "stream",
     "text": [
      "336it [06:27,  1.15s/it]\n",
      "84it [00:31,  2.65it/s]\n"
     ]
    },
    {
     "name": "stdout",
     "output_type": "stream",
     "text": [
      "Epoch:17, Train Loss: 0.6049, Train Accuracy: 81.8010, Valid Loss: 1.2302, Valid Accuracy: 68.6382\n"
     ]
    },
    {
     "name": "stderr",
     "output_type": "stream",
     "text": [
      "336it [06:31,  1.17s/it]\n",
      "84it [00:32,  2.62it/s]\n"
     ]
    },
    {
     "name": "stdout",
     "output_type": "stream",
     "text": [
      "Epoch:18, Train Loss: 0.5948, Train Accuracy: 81.9035, Valid Loss: 1.2772, Valid Accuracy: 67.5671\n"
     ]
    },
    {
     "name": "stderr",
     "output_type": "stream",
     "text": [
      "336it [06:21,  1.14s/it]\n",
      "84it [00:32,  2.58it/s]\n"
     ]
    },
    {
     "name": "stdout",
     "output_type": "stream",
     "text": [
      "Epoch:19, Train Loss: 0.5737, Train Accuracy: 82.4065, Valid Loss: 1.3565, Valid Accuracy: 66.5238\n"
     ]
    },
    {
     "name": "stderr",
     "output_type": "stream",
     "text": [
      "336it [06:24,  1.15s/it]\n",
      "84it [00:49,  1.69it/s]\n"
     ]
    },
    {
     "name": "stdout",
     "output_type": "stream",
     "text": [
      "Epoch:20, Train Loss: 0.5611, Train Accuracy: 82.8373, Valid Loss: 1.3550, Valid Accuracy: 67.1107\n"
     ]
    },
    {
     "name": "stderr",
     "output_type": "stream",
     "text": [
      "336it [06:21,  1.14s/it]\n",
      "84it [00:32,  2.56it/s]\n"
     ]
    },
    {
     "name": "stdout",
     "output_type": "stream",
     "text": [
      "Epoch:21, Train Loss: 0.5498, Train Accuracy: 83.1261, Valid Loss: 1.3347, Valid Accuracy: 67.3435\n"
     ]
    },
    {
     "name": "stderr",
     "output_type": "stream",
     "text": [
      "336it [06:25,  1.15s/it]\n",
      "84it [00:32,  2.55it/s]\n"
     ]
    },
    {
     "name": "stdout",
     "output_type": "stream",
     "text": [
      "Epoch:22, Train Loss: 0.5085, Train Accuracy: 84.4092, Valid Loss: 1.3805, Valid Accuracy: 66.8964\n"
     ]
    },
    {
     "name": "stderr",
     "output_type": "stream",
     "text": [
      "336it [06:20,  1.13s/it]\n",
      "84it [00:32,  2.59it/s]\n"
     ]
    },
    {
     "name": "stdout",
     "output_type": "stream",
     "text": [
      "Epoch:23, Train Loss: 0.4907, Train Accuracy: 84.9239, Valid Loss: 1.3090, Valid Accuracy: 69.0387\n",
      "Saving Best Model with Accuracy:  tensor(69.0387, device='cuda:0')\n"
     ]
    },
    {
     "name": "stderr",
     "output_type": "stream",
     "text": [
      "336it [06:19,  1.13s/it]\n",
      "84it [00:32,  2.59it/s]\n"
     ]
    },
    {
     "name": "stdout",
     "output_type": "stream",
     "text": [
      "Epoch:24, Train Loss: 0.4773, Train Accuracy: 85.0380, Valid Loss: 1.2767, Valid Accuracy: 69.6162\n",
      "Saving Best Model with Accuracy:  tensor(69.6162, device='cuda:0')\n"
     ]
    },
    {
     "name": "stderr",
     "output_type": "stream",
     "text": [
      "336it [06:23,  1.14s/it]\n",
      "84it [00:34,  2.44it/s]\n"
     ]
    },
    {
     "name": "stdout",
     "output_type": "stream",
     "text": [
      "Epoch:25, Train Loss: 0.4961, Train Accuracy: 84.6630, Valid Loss: 1.3234, Valid Accuracy: 68.8525\n"
     ]
    },
    {
     "name": "stderr",
     "output_type": "stream",
     "text": [
      "336it [06:20,  1.13s/it]\n",
      "84it [00:34,  2.42it/s]\n"
     ]
    },
    {
     "name": "stdout",
     "output_type": "stream",
     "text": [
      "Epoch:26, Train Loss: 0.4687, Train Accuracy: 85.3547, Valid Loss: 1.3628, Valid Accuracy: 68.1446\n"
     ]
    },
    {
     "name": "stderr",
     "output_type": "stream",
     "text": [
      "336it [06:24,  1.14s/it]\n",
      "84it [00:34,  2.47it/s]\n"
     ]
    },
    {
     "name": "stdout",
     "output_type": "stream",
     "text": [
      "Epoch:27, Train Loss: 0.4534, Train Accuracy: 85.9345, Valid Loss: 1.3341, Valid Accuracy: 68.0048\n"
     ]
    },
    {
     "name": "stderr",
     "output_type": "stream",
     "text": [
      "336it [06:28,  1.16s/it]\n",
      "84it [00:33,  2.50it/s]\n"
     ]
    },
    {
     "name": "stdout",
     "output_type": "stream",
     "text": [
      "Epoch:28, Train Loss: 0.4239, Train Accuracy: 86.8148, Valid Loss: 1.3522, Valid Accuracy: 67.9676\n"
     ]
    },
    {
     "name": "stderr",
     "output_type": "stream",
     "text": [
      "336it [06:20,  1.13s/it]\n",
      "84it [00:32,  2.60it/s]\n"
     ]
    },
    {
     "name": "stdout",
     "output_type": "stream",
     "text": [
      "Epoch:29, Train Loss: 0.4172, Train Accuracy: 86.9452, Valid Loss: 1.5183, Valid Accuracy: 65.5086\n"
     ]
    },
    {
     "name": "stderr",
     "output_type": "stream",
     "text": [
      "336it [06:12,  1.11s/it]\n",
      "84it [00:32,  2.60it/s]\n"
     ]
    },
    {
     "name": "stdout",
     "output_type": "stream",
     "text": [
      "Epoch:30, Train Loss: 0.4101, Train Accuracy: 87.1548, Valid Loss: 1.3767, Valid Accuracy: 67.2504\n"
     ]
    },
    {
     "name": "stderr",
     "output_type": "stream",
     "text": [
      "336it [06:22,  1.14s/it]\n",
      "84it [00:31,  2.63it/s]\n"
     ]
    },
    {
     "name": "stdout",
     "output_type": "stream",
     "text": [
      "Epoch:31, Train Loss: 0.3860, Train Accuracy: 87.9023, Valid Loss: 1.3033, Valid Accuracy: 69.4765\n"
     ]
    },
    {
     "name": "stderr",
     "output_type": "stream",
     "text": [
      "336it [06:23,  1.14s/it]\n",
      "84it [00:32,  2.59it/s]\n"
     ]
    },
    {
     "name": "stdout",
     "output_type": "stream",
     "text": [
      "Epoch:32, Train Loss: 0.3801, Train Accuracy: 87.9861, Valid Loss: 1.2808, Valid Accuracy: 71.0693\n",
      "Saving Best Model with Accuracy:  tensor(71.0693, device='cuda:0')\n"
     ]
    },
    {
     "name": "stderr",
     "output_type": "stream",
     "text": [
      "336it [06:19,  1.13s/it]\n",
      "84it [00:32,  2.59it/s]\n"
     ]
    },
    {
     "name": "stdout",
     "output_type": "stream",
     "text": [
      "Epoch:33, Train Loss: 0.3813, Train Accuracy: 87.9395, Valid Loss: 1.3665, Valid Accuracy: 69.2716\n"
     ]
    },
    {
     "name": "stderr",
     "output_type": "stream",
     "text": [
      "336it [05:22,  1.04it/s]\n",
      "84it [00:31,  2.66it/s]\n"
     ]
    },
    {
     "name": "stdout",
     "output_type": "stream",
     "text": [
      "Epoch:34, Train Loss: 0.3560, Train Accuracy: 88.7965, Valid Loss: 1.3732, Valid Accuracy: 69.1040\n"
     ]
    },
    {
     "name": "stderr",
     "output_type": "stream",
     "text": [
      "336it [05:26,  1.03it/s]\n",
      "84it [00:31,  2.65it/s]\n"
     ]
    },
    {
     "name": "stdout",
     "output_type": "stream",
     "text": [
      "Epoch:35, Train Loss: 0.3523, Train Accuracy: 88.7988, Valid Loss: 1.3985, Valid Accuracy: 68.6848\n"
     ]
    },
    {
     "name": "stderr",
     "output_type": "stream",
     "text": [
      "336it [05:23,  1.04it/s]\n",
      "84it [00:32,  2.60it/s]\n"
     ]
    },
    {
     "name": "stdout",
     "output_type": "stream",
     "text": [
      "Epoch:36, Train Loss: 0.3476, Train Accuracy: 89.0643, Valid Loss: 1.4231, Valid Accuracy: 69.1598\n"
     ]
    },
    {
     "name": "stderr",
     "output_type": "stream",
     "text": [
      "336it [06:18,  1.13s/it]\n",
      "84it [00:33,  2.51it/s]\n"
     ]
    },
    {
     "name": "stdout",
     "output_type": "stream",
     "text": [
      "Epoch:37, Train Loss: 0.4006, Train Accuracy: 87.4715, Valid Loss: 1.3388, Valid Accuracy: 70.4825\n"
     ]
    },
    {
     "name": "stderr",
     "output_type": "stream",
     "text": [
      "336it [06:18,  1.13s/it]\n",
      "84it [00:32,  2.58it/s]\n"
     ]
    },
    {
     "name": "stdout",
     "output_type": "stream",
     "text": [
      "Epoch:38, Train Loss: 0.3738, Train Accuracy: 88.1980, Valid Loss: 1.3699, Valid Accuracy: 69.0108\n"
     ]
    },
    {
     "name": "stderr",
     "output_type": "stream",
     "text": [
      "336it [06:20,  1.13s/it]\n",
      "84it [00:32,  2.58it/s]\n"
     ]
    },
    {
     "name": "stdout",
     "output_type": "stream",
     "text": [
      "Epoch:39, Train Loss: 0.3527, Train Accuracy: 88.9129, Valid Loss: 1.4310, Valid Accuracy: 69.0108\n"
     ]
    },
    {
     "name": "stderr",
     "output_type": "stream",
     "text": [
      "336it [06:29,  1.16s/it]\n",
      "84it [00:32,  2.57it/s]\n"
     ]
    },
    {
     "name": "stdout",
     "output_type": "stream",
     "text": [
      "Epoch:40, Train Loss: 0.3184, Train Accuracy: 89.6931, Valid Loss: 1.3357, Valid Accuracy: 70.9016\n"
     ]
    },
    {
     "name": "stderr",
     "output_type": "stream",
     "text": [
      "336it [06:18,  1.13s/it]\n",
      "84it [00:32,  2.55it/s]\n"
     ]
    },
    {
     "name": "stdout",
     "output_type": "stream",
     "text": [
      "Epoch:41, Train Loss: 0.3148, Train Accuracy: 90.0307, Valid Loss: 1.3373, Valid Accuracy: 70.4639\n"
     ]
    },
    {
     "name": "stderr",
     "output_type": "stream",
     "text": [
      "336it [06:26,  1.15s/it]\n",
      "84it [00:33,  2.52it/s]\n"
     ]
    },
    {
     "name": "stdout",
     "output_type": "stream",
     "text": [
      "Epoch:42, Train Loss: 0.3061, Train Accuracy: 90.2194, Valid Loss: 1.3781, Valid Accuracy: 70.2589\n"
     ]
    },
    {
     "name": "stderr",
     "output_type": "stream",
     "text": [
      "336it [06:23,  1.14s/it]\n",
      "84it [00:31,  2.64it/s]\n"
     ]
    },
    {
     "name": "stdout",
     "output_type": "stream",
     "text": [
      "Epoch:43, Train Loss: 0.3105, Train Accuracy: 90.0354, Valid Loss: 1.3704, Valid Accuracy: 71.0972\n",
      "Saving Best Model with Accuracy:  tensor(71.0972, device='cuda:0')\n"
     ]
    },
    {
     "name": "stderr",
     "output_type": "stream",
     "text": [
      "336it [06:09,  1.10s/it]\n",
      "84it [00:33,  2.54it/s]\n"
     ]
    },
    {
     "name": "stdout",
     "output_type": "stream",
     "text": [
      "Epoch:44, Train Loss: 0.3133, Train Accuracy: 89.9399, Valid Loss: 1.3402, Valid Accuracy: 71.3394\n",
      "Saving Best Model with Accuracy:  tensor(71.3394, device='cuda:0')\n"
     ]
    },
    {
     "name": "stderr",
     "output_type": "stream",
     "text": [
      "336it [06:18,  1.13s/it]\n",
      "84it [00:33,  2.54it/s]\n"
     ]
    },
    {
     "name": "stdout",
     "output_type": "stream",
     "text": [
      "Epoch:45, Train Loss: 0.3210, Train Accuracy: 89.7047, Valid Loss: 1.4237, Valid Accuracy: 68.5823\n"
     ]
    },
    {
     "name": "stderr",
     "output_type": "stream",
     "text": [
      "336it [06:16,  1.12s/it]\n",
      "84it [00:32,  2.60it/s]\n"
     ]
    },
    {
     "name": "stdout",
     "output_type": "stream",
     "text": [
      "Epoch:46, Train Loss: 0.2998, Train Accuracy: 90.3288, Valid Loss: 1.4519, Valid Accuracy: 69.2530\n"
     ]
    },
    {
     "name": "stderr",
     "output_type": "stream",
     "text": [
      "336it [06:10,  1.10s/it]\n",
      "84it [00:32,  2.60it/s]\n"
     ]
    },
    {
     "name": "stdout",
     "output_type": "stream",
     "text": [
      "Epoch:47, Train Loss: 0.3026, Train Accuracy: 90.1937, Valid Loss: 1.4867, Valid Accuracy: 68.8245\n"
     ]
    },
    {
     "name": "stderr",
     "output_type": "stream",
     "text": [
      "336it [06:13,  1.11s/it]\n",
      "84it [00:32,  2.57it/s]\n"
     ]
    },
    {
     "name": "stdout",
     "output_type": "stream",
     "text": [
      "Epoch:48, Train Loss: 0.3109, Train Accuracy: 90.0657, Valid Loss: 1.4653, Valid Accuracy: 69.3741\n"
     ]
    },
    {
     "name": "stderr",
     "output_type": "stream",
     "text": [
      "336it [06:14,  1.11s/it]\n",
      "84it [00:31,  2.64it/s]\n"
     ]
    },
    {
     "name": "stdout",
     "output_type": "stream",
     "text": [
      "Epoch:49, Train Loss: 0.3072, Train Accuracy: 89.9981, Valid Loss: 1.5100, Valid Accuracy: 68.8618\n"
     ]
    },
    {
     "data": {
      "image/png": "[encoded data removed]",
      "text/plain": [
       "<Figure size 432x288 with 1 Axes>"
      ]
     },
     "metadata": {
      "needs_background": "light"
     },
     "output_type": "display_data"
    }
   ],
   "source": [
    "num_epochs = 50\n",
    "best_model = model\n",
    "best_model,max_acc = fit_model(model,num_epochs,train_dataloader,validation_dataloader,best_model)"
   ]
  },
  {
   "cell_type": "markdown",
   "id": "f4515774-0480-4025-9c27-546be9e56b7e",
   "metadata": {},
   "source": [
    "We performed multiple experiments on the training and validation dataset. The model mentioned in the previous cell, is the last experiment we performed on LSTM.\n",
    "\n",
    "Other experiments performed on LSTM are:"
   ]
  },
  {
   "cell_type": "code",
   "execution_count": null,
   "id": "dd8c01fb-c5d9-4537-9655-e1f05bde7a82",
   "metadata": {},
   "outputs": [],
   "source": [
    "input_dim = 100 \n",
    "hidden_dim = 128\n",
    "num_layers = 2\n",
    "output_dim = 50\n",
    "random_seed = 2\n",
    "torch.backends.cudnn.enabled = False\n",
    "torch.manual_seed(random_seed)\n",
    "model_exp1 = LSTM(input_dim=input_dim, hidden_dim=hidden_dim,out_dim=output_dim, num_layers=num_layers)"
   ]
  },
  {
   "cell_type": "markdown",
   "id": "b4a07047-1a3f-49cb-a5d0-e9102bedc473",
   "metadata": {
    "tags": []
   },
   "source": [
    "# Testing the Trained Model"
   ]
  },
  {
   "cell_type": "code",
   "execution_count": 64,
   "id": "54ee4825",
   "metadata": {},
   "outputs": [],
   "source": [
    "best_model = torch.load('ai_lstm_bs_model.pth')"
   ]
  },
  {
   "cell_type": "code",
   "execution_count": 65,
   "id": "a93f4a02-0e1c-4c24-8524-5c40bb6d9e46",
   "metadata": {},
   "outputs": [
    {
     "name": "stdout",
     "output_type": "stream",
     "text": [
      "LSTM(\n",
      "  (lstm): LSTM(100, 128, num_layers=2, batch_first=True)\n",
      "  (sequential): Sequential(\n",
      "    (0): Linear(in_features=128, out_features=256, bias=True)\n",
      "    (1): ReLU()\n",
      "    (2): Linear(in_features=256, out_features=128, bias=True)\n",
      "    (3): ReLU()\n",
      "  )\n",
      "  (fc): Linear(in_features=128, out_features=50, bias=True)\n",
      ")\n"
     ]
    }
   ],
   "source": [
    "print(best_model)"
   ]
  },
  {
   "cell_type": "code",
   "execution_count": 66,
   "id": "fc3d6d91-2dcf-4df6-b331-38b291b77802",
   "metadata": {},
   "outputs": [],
   "source": [
    "from sklearn.metrics import classification_report"
   ]
  },
  {
   "cell_type": "markdown",
   "id": "12b0702d-60e3-475c-842a-0e34ab99a929",
   "metadata": {},
   "source": [
    "### Generate Predicted Values for Test Dataset"
   ]
  },
  {
   "cell_type": "code",
   "execution_count": 72,
   "id": "c0be54d3-9210-43c5-a53e-6448654b5196",
   "metadata": {},
   "outputs": [
    {
     "name": "stdout",
     "output_type": "stream",
     "text": [
      "10736\n"
     ]
    }
   ],
   "source": [
    "device = get_device()\n",
    "best_model.to(device)\n",
    "predicted_results = []\n",
    "for batch_idx,(feature_data,labels) in enumerate(validation_dataloader):\n",
    "    feature_data = feature_data.to(device)\n",
    "    labels = labels.to(device)\n",
    "    output = best_model(feature_data)\n",
    "    _,predicted = torch.max(output.data,1)\n",
    "    predicted_results = predicted_results+list(predicted.cpu().detach().numpy())\n",
    "    \n",
    "print(len(predicted_results))"
   ]
  },
  {
   "cell_type": "code",
   "execution_count": 75,
   "id": "117f49ee-8864-461c-8f41-ef50001dcf91",
   "metadata": {},
   "outputs": [],
   "source": [
    "y_true = valid_set['author'].to_list()"
   ]
  },
  {
   "cell_type": "markdown",
   "id": "7d4fd353-fe93-41b4-8a9d-0e2b4cd09c6d",
   "metadata": {},
   "source": [
    "# Generate Classification Report"
   ]
  },
  {
   "cell_type": "code",
   "execution_count": 76,
   "id": "3ccf0d22-192d-46d1-8257-b15d1205a34f",
   "metadata": {},
   "outputs": [
    {
     "name": "stdout",
     "output_type": "stream",
     "text": [
      "              precision    recall  f1-score   support\n",
      "\n",
      "           0       0.77      0.79      0.78       203\n",
      "           1       0.32      0.26      0.29        94\n",
      "           2       0.48      0.22      0.31        49\n",
      "           3       0.48      0.52      0.50       279\n",
      "           5       0.43      0.38      0.40        76\n",
      "           7       0.82      0.84      0.83      1364\n",
      "           8       0.58      0.59      0.58       225\n",
      "           9       0.66      0.71      0.69       162\n",
      "          10       0.58      0.57      0.57        69\n",
      "          11       0.63      0.61      0.62       109\n",
      "          12       0.77      0.64      0.70       119\n",
      "          13       0.76      0.75      0.76       561\n",
      "          14       0.81      0.64      0.72       289\n",
      "          15       0.09      0.10      0.10        40\n",
      "          16       0.41      0.39      0.39       122\n",
      "          17       0.73      0.58      0.65       203\n",
      "          18       0.69      0.78      0.73       323\n",
      "          19       0.66      0.77      0.71       113\n",
      "          20       0.85      0.78      0.81       413\n",
      "          21       0.70      0.52      0.60        98\n",
      "          22       0.43      0.37      0.40       103\n",
      "          23       0.48      0.64      0.55        66\n",
      "          24       0.52      0.56      0.54       225\n",
      "          25       0.96      0.94      0.95       861\n",
      "          26       0.55      0.36      0.44        61\n",
      "          27       0.88      0.75      0.81       191\n",
      "          28       0.65      0.66      0.66       152\n",
      "          29       0.72      0.52      0.60       199\n",
      "          31       0.55      0.62      0.58       141\n",
      "          32       0.81      0.80      0.80       362\n",
      "          33       0.60      0.58      0.59        89\n",
      "          34       0.35      0.47      0.40       123\n",
      "          35       0.70      0.78      0.74       133\n",
      "          36       0.79      0.70      0.74       510\n",
      "          37       0.59      0.62      0.60       231\n",
      "          38       0.76      0.87      0.81       453\n",
      "          39       0.46      0.52      0.48        93\n",
      "          40       0.65      0.63      0.64       198\n",
      "          41       0.79      0.82      0.81       171\n",
      "          42       0.78      0.73      0.75       250\n",
      "          43       0.35      0.41      0.38        87\n",
      "          44       0.66      0.78      0.71       458\n",
      "          45       0.51      0.58      0.55       103\n",
      "          47       0.73      0.77      0.75       379\n",
      "          49       0.67      0.63      0.65       186\n",
      "\n",
      "    accuracy                           0.71     10736\n",
      "   macro avg       0.63      0.61      0.62     10736\n",
      "weighted avg       0.72      0.71      0.71     10736\n",
      "\n"
     ]
    }
   ],
   "source": [
    "print(classification_report(y_true, predicted_results))"
   ]
  }
 ],
 "metadata": {
  "kernelspec": {
   "display_name": "Python 3 (ipykernel)",
   "language": "python",
   "name": "python3"
  },
  "language_info": {
   "codemirror_mode": {
    "name": "ipython",
    "version": 3
   },
   "file_extension": ".py",
   "mimetype": "text/x-python",
   "name": "python",
   "nbconvert_exporter": "python",
   "pygments_lexer": "ipython3",
   "version": "3.8.13"
  }
 },
 "nbformat": 4,
 "nbformat_minor": 5
}

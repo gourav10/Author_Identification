{
 "cells": [
  {
   "cell_type": "markdown",
   "metadata": {},
   "source": [
    "# Imports"
   ]
  },
  {
   "cell_type": "code",
   "execution_count": 1,
   "metadata": {},
   "outputs": [],
   "source": [
    "from tqdm import tqdm\n",
    "import warnings\n",
    "warnings.filterwarnings('ignore')\n",
    "tqdm.pandas()\n",
    "%matplotlib inline\n",
    "\n",
    "import matplotlib.pyplot as plt\n",
    "import seaborn as sns\n",
    "import pandas as pd\n",
    "import scipy.io\n",
    "from sklearn.model_selection import train_test_split\n",
    "import numpy as np \n",
    "from PIL import Image\n",
    "import random"
   ]
  },
  {
   "cell_type": "code",
   "execution_count": 2,
   "metadata": {},
   "outputs": [],
   "source": [
    "import pickle\n",
    "from nltk.corpus import stopwords\n",
    "stop = stopwords.words('english')"
   ]
  },
  {
   "cell_type": "code",
   "execution_count": 3,
   "metadata": {},
   "outputs": [],
   "source": [
    "from nltk.stem import PorterStemmer\n",
    "from nltk.stem import WordNetLemmatizer\n",
    "from nltk.tokenize import word_tokenize\n",
    "from nltk.tokenize import RegexpTokenizer"
   ]
  },
  {
   "cell_type": "code",
   "execution_count": 4,
   "metadata": {},
   "outputs": [],
   "source": [
    "# Import stopwords with nltk.\n",
    "import nltk"
   ]
  },
  {
   "cell_type": "code",
   "execution_count": 5,
   "metadata": {},
   "outputs": [
    {
     "name": "stderr",
     "output_type": "stream",
     "text": [
      "[nltk_data] Downloading package punkt to\n",
      "[nltk_data]     C:\\Users\\ht_13\\AppData\\Roaming\\nltk_data...\n",
      "[nltk_data]   Package punkt is already up-to-date!\n"
     ]
    },
    {
     "data": {
      "text/plain": [
       "True"
      ]
     },
     "execution_count": 5,
     "metadata": {},
     "output_type": "execute_result"
    }
   ],
   "source": [
    "nltk.download('punkt')"
   ]
  },
  {
   "cell_type": "code",
   "execution_count": 6,
   "metadata": {},
   "outputs": [
    {
     "name": "stderr",
     "output_type": "stream",
     "text": [
      "[nltk_data] Downloading package wordnet to\n",
      "[nltk_data]     C:\\Users\\ht_13\\AppData\\Roaming\\nltk_data...\n",
      "[nltk_data]   Package wordnet is already up-to-date!\n"
     ]
    },
    {
     "data": {
      "text/plain": [
       "True"
      ]
     },
     "execution_count": 6,
     "metadata": {},
     "output_type": "execute_result"
    }
   ],
   "source": [
    "nltk.download('wordnet')"
   ]
  },
  {
   "cell_type": "markdown",
   "metadata": {},
   "source": [
    "## Data loading and Visualization"
   ]
  },
  {
   "cell_type": "code",
   "execution_count": 7,
   "metadata": {},
   "outputs": [],
   "source": [
    "path = 'C:/Users/ht_13/OneDrive/Documents/6140-ML/Project/'\n",
    "# load test result file\n",
    "test_author = scipy.io.loadmat(path+'dataset/dataset/test_author.mat')[\"test_author\"]\n",
    "# load train dataFrame\n",
    "train_df = pd.read_csv(path+'dataset/dataset/Gungor_2018_VictorianAuthorAttribution_data-train.csv',encoding = \"ISO-8859-1\")\n",
    "# load train dataFrame\n",
    "test_df = pd.read_csv(path+'dataset/dataset/Gungor_2018_VictorianAuthorAttribution_data.csv',encoding = \"ISO-8859-1\")\n",
    "# load list of authors\n",
    "f = open('author_list.txt', 'r')\n",
    "author_list = f.read().split('\\n')\n",
    "f.close()"
   ]
  },
  {
   "cell_type": "code",
   "execution_count": 11,
   "metadata": {
    "collapsed": true,
    "jupyter": {
     "outputs_hidden": true
    },
    "tags": []
   },
   "outputs": [
    {
     "name": "stdout",
     "output_type": "stream",
     "text": [
      "1 Arthur Conan Doyle\n",
      "2 Charles Darwin\n",
      "3 Charles Dickens\n",
      "4 Edith Wharton\n",
      "5 George Eliot\n",
      "6 Horace Greeley\n",
      "7 Jack London\n",
      "8 James Baldwin\n",
      "9 Jane Austen\n",
      "10 John Muir\n",
      "11 Joseph Conrad\n",
      "12 Mark Twain\n",
      "13 Nathaniel Hawthorne\n",
      "14 Ralph Emerson\n",
      "15 Robert Louis Stevenson\n",
      "16 Rudyard Kipling\n",
      "17 Sinclair Lewis\n",
      "18 Theodore Dreiser\n",
      "19 Thomas Hardy\n",
      "20 Walt Whitman\n",
      "21 Washington Irving\n",
      "22 William Carleton\n",
      "23 Albert Ross\n",
      "24 Anne Manning\n",
      "25 Arlo Bates\n",
      "26 Bret Harte\n",
      "27 Catharine Maria Sedgwick\n",
      "28 Charles Reade\n",
      "29 Edward Eggleston\n",
      "30 Fergus Hume\n",
      "31 Frances Hodgson Burnett\n",
      "32 George Moore\n",
      "33 George William Curtis\n",
      "34 Helen Mathers\n",
      "35 Henry Rider Haggard\n",
      "36 Isabella Lucy Bird\n",
      "37 Jacob Abbott\n",
      "38 James Grant\n",
      "39 James Payn\n",
      "40 John Kendrick Bangs\n",
      "41 John Pendleton Kennedy\n",
      "42 John Strange Winter\n",
      "43 Lucas Malet\n",
      "44 Marie Corelli\n",
      "45 Oliver Optic\n",
      "46 Sarah Orne Jewett\n",
      "47 Sarah Stickney Ellis\n",
      "48 Thomas Anstey Guthrie\n",
      "49 Thomas Nelson Page\n",
      "50 William Black\n"
     ]
    }
   ],
   "source": [
    "# print list of authers and create map dict\n",
    "author_name_map_dict ={}\n",
    "author_id_map_dict ={}\n",
    "for i,author in enumerate(author_list):\n",
    "    author_name_map_dict[author] = i\n",
    "    author_id_map_dict[i] = author\n",
    "    print(i+1, author)"
   ]
  },
  {
   "cell_type": "code",
   "execution_count": 12,
   "metadata": {
    "collapsed": true,
    "jupyter": {
     "outputs_hidden": true
    },
    "tags": []
   },
   "outputs": [
    {
     "data": {
      "image/png": "[encoded data removed]",
      "text/plain": [
       "<Figure size 1440x864 with 1 Axes>"
      ]
     },
     "metadata": {
      "needs_background": "light"
     },
     "output_type": "display_data"
    }
   ],
   "source": [
    "# plot class distribution for all the authors\n",
    "cnt_srs = train_df['author'].value_counts()\n",
    "plt.figure(figsize=(20,12))\n",
    "sns.barplot(cnt_srs.index, cnt_srs.values, alpha=0.8)\n",
    "plt.ylabel('Number of Occurrences', fontsize=12)\n",
    "plt.xlabel('Author Name', fontsize=12)\n",
    "plt.show()"
   ]
  },
  {
   "cell_type": "code",
   "execution_count": 13,
   "metadata": {},
   "outputs": [
    {
     "name": "stdout",
     "output_type": "stream",
     "text": [
      "Training sample number:  (53678, 2)\n",
      "Test sample number:  (38809, 1)\n"
     ]
    }
   ],
   "source": [
    "# printing number of train and test samples\n",
    "print(\"Training sample number: \", train_df.shape)\n",
    "print(\"Test sample number: \", test_df.shape)"
   ]
  },
  {
   "cell_type": "code",
   "execution_count": 14,
   "metadata": {},
   "outputs": [
    {
     "data": {
      "text/html": [
       "<div>\n",
       "<style scoped>\n",
       "    .dataframe tbody tr th:only-of-type {\n",
       "        vertical-align: middle;\n",
       "    }\n",
       "\n",
       "    .dataframe tbody tr th {\n",
       "        vertical-align: top;\n",
       "    }\n",
       "\n",
       "    .dataframe thead th {\n",
       "        text-align: right;\n",
       "    }\n",
       "</style>\n",
       "<table border=\"1\" class=\"dataframe\">\n",
       "  <thead>\n",
       "    <tr style=\"text-align: right;\">\n",
       "      <th></th>\n",
       "      <th>text</th>\n",
       "      <th>author</th>\n",
       "    </tr>\n",
       "  </thead>\n",
       "  <tbody>\n",
       "    <tr>\n",
       "      <th>0</th>\n",
       "      <td>ou have time to listen i will give you the ent...</td>\n",
       "      <td>1</td>\n",
       "    </tr>\n",
       "    <tr>\n",
       "      <th>1</th>\n",
       "      <td>wish for solitude he was twenty years of age a...</td>\n",
       "      <td>1</td>\n",
       "    </tr>\n",
       "    <tr>\n",
       "      <th>2</th>\n",
       "      <td>and the skirt blew in perfect freedom about th...</td>\n",
       "      <td>1</td>\n",
       "    </tr>\n",
       "    <tr>\n",
       "      <th>3</th>\n",
       "      <td>of san and the rows of shops opposite impresse...</td>\n",
       "      <td>1</td>\n",
       "    </tr>\n",
       "    <tr>\n",
       "      <th>4</th>\n",
       "      <td>an hour s walk was as tiresome as three in a s...</td>\n",
       "      <td>1</td>\n",
       "    </tr>\n",
       "  </tbody>\n",
       "</table>\n",
       "</div>"
      ],
      "text/plain": [
       "                                                text  author\n",
       "0  ou have time to listen i will give you the ent...       1\n",
       "1  wish for solitude he was twenty years of age a...       1\n",
       "2  and the skirt blew in perfect freedom about th...       1\n",
       "3  of san and the rows of shops opposite impresse...       1\n",
       "4  an hour s walk was as tiresome as three in a s...       1"
      ]
     },
     "execution_count": 14,
     "metadata": {},
     "output_type": "execute_result"
    }
   ],
   "source": [
    "train_df.head(n=5)"
   ]
  },
  {
   "cell_type": "code",
   "execution_count": 15,
   "metadata": {},
   "outputs": [
    {
     "data": {
      "text/plain": [
       "1000"
      ]
     },
     "execution_count": 15,
     "metadata": {},
     "output_type": "execute_result"
    }
   ],
   "source": [
    "#Each line consists of 1000 words\n",
    "str_list = train_df[\"text\"][0].split(\" \")\n",
    "str_list = filter(None, str_list) \n",
    "len(list(str_list))"
   ]
  },
  {
   "cell_type": "markdown",
   "metadata": {},
   "source": [
    "## Preprocess"
   ]
  },
  {
   "cell_type": "code",
   "execution_count": 8,
   "metadata": {},
   "outputs": [
    {
     "name": "stderr",
     "output_type": "stream",
     "text": [
      "100%|██████████████████████████████████████████████████████████████████████████| 53678/53678 [00:52<00:00, 1027.33it/s]\n",
      "100%|██████████████████████████████████████████████████████████████████████████| 38809/38809 [00:37<00:00, 1021.81it/s]\n"
     ]
    }
   ],
   "source": [
    "# remove stop words\n",
    "train_df['text'] = train_df['text'].progress_apply(lambda words: ' '.join(word.lower() for word in words.split(' ') if word not in stop))\n",
    "test_df['text'] = test_df['text'].progress_apply(lambda words: ' '.join(word.lower() for word in words.split(' ') if word not in stop))"
   ]
  },
  {
   "cell_type": "code",
   "execution_count": 9,
   "metadata": {},
   "outputs": [],
   "source": [
    "stemmer = PorterStemmer()\n",
    "lemmatizer = WordNetLemmatizer()\n",
    "tokenizer = RegexpTokenizer(r'\\w+')\n",
    "\n",
    "def remove_punctuations(text_context):\n",
    "    tokenizer = nltk.RegexpTokenizer(r\"\\w+\")\n",
    "    new_words = tokenizer.tokenize(text_context)\n",
    "    return ' '.join([word for word in new_words])\n",
    "\n",
    "def stemming_data(text_content):\n",
    "    words = word_tokenize(text_content)\n",
    "    return ' '.join([stemmer.stem(word) for word in words])\n",
    "\n",
    "def lemmatize_data(text_content):\n",
    "    words = word_tokenize(text_content)\n",
    "    return ' '.join([lemmatizer.lemmatize(word) for word in words])"
   ]
  },
  {
   "cell_type": "code",
   "execution_count": null,
   "metadata": {},
   "outputs": [],
   "source": [
    "#Remove Punctuations\n",
    "train_df['text'] = train_df['text'].progress_apply(lambda x: remove_punctuations(x))\n",
    "test_df['text'] = test_df['text'].progress_apply(lambda x: remove_punctuations(x))\n",
    "\n",
    "#Perform stemming\n",
    "train_df['text'] = train_df['text'].progress_apply(lambda x: stemming_data(x))\n",
    "test_df['text'] = test_df['text'].progress_apply(lambda x: stemming_data(x))\n",
    "\n",
    "# and lemmatization\n",
    "train_df['text'] = train_df['text'].progress_apply(lambda x: lemmatize_data(x))\n",
    "test_df['text'] = test_df['text'].progress_apply(lambda x: lemmatize_data(x))"
   ]
  },
  {
   "cell_type": "markdown",
   "metadata": {},
   "source": [
    "## Train validation Split"
   ]
  },
  {
   "cell_type": "code",
   "execution_count": 11,
   "metadata": {},
   "outputs": [
    {
     "name": "stdout",
     "output_type": "stream",
     "text": [
      "Length of Training data: 42942\n",
      "Length of Validation data : 10736\n"
     ]
    }
   ],
   "source": [
    "# split the data in train and validation set\n",
    "xtrain, xvalid, ytrain, yvalid = train_test_split(train_df.text.values, train_df.author.values, \n",
    "                                                  stratify=train_df.author.values, \n",
    "                                                  random_state=42, \n",
    "                                                  test_size=0.2, shuffle=True)\n",
    "print ('Length of Training data:',xtrain.shape[0])\n",
    "print ('Length of Validation data :',xvalid.shape[0])"
   ]
  },
  {
   "cell_type": "code",
   "execution_count": 12,
   "metadata": {},
   "outputs": [],
   "source": [
    "# split the data in train and validation set\n",
    "df_train, df_val = train_test_split(train_df ,stratify=train_df.author.values, \n",
    "                                                  random_state=42, \n",
    "                                                  test_size=0.2, shuffle=True)\n",
    "train_df = None"
   ]
  },
  {
   "cell_type": "markdown",
   "metadata": {},
   "source": [
    "## pure test data"
   ]
  },
  {
   "cell_type": "code",
   "execution_count": 13,
   "metadata": {},
   "outputs": [],
   "source": [
    "test_df['author'] = test_author.reshape((test_df.shape[0]))\n",
    "missing_authors = [5, 7, 31, 47, 49]\n",
    "df_test = test_df.loc[~(test_df['author'].isin(missing_authors))]"
   ]
  },
  {
   "cell_type": "code",
   "execution_count": null,
   "metadata": {},
   "outputs": [],
   "source": []
  },
  {
   "cell_type": "code",
   "execution_count": 29,
   "metadata": {},
   "outputs": [],
   "source": [
    "xtest,ytest = df_test.text.values,df_test.author.values"
   ]
  },
  {
   "cell_type": "markdown",
   "metadata": {},
   "source": [
    "## Random Forest"
   ]
  },
  {
   "cell_type": "code",
   "execution_count": 14,
   "metadata": {},
   "outputs": [
    {
     "name": "stdout",
     "output_type": "stream",
     "text": [
      "Wall time: 2min 23s\n",
      "Wall time: 39.2 s\n",
      "Wall time: 9.8 s\n"
     ]
    }
   ],
   "source": [
    "# embedding using TFIDF\n",
    "from sklearn.feature_extraction.text import TfidfVectorizer, CountVectorizer, HashingVectorizer\n",
    "tfv = TfidfVectorizer(min_df=3,  max_features=10000, \n",
    "            strip_accents='unicode', analyzer='word',token_pattern=r'\\w{1,}',\n",
    "            ngram_range=(1, 3), use_idf=1,smooth_idf=1,sublinear_tf=1,\n",
    "            stop_words = 'english')\n",
    "\n",
    "# Fitting TF-IDF to both training and validation sets\n",
    "%time tfv.fit(list(xtrain) + list(xvalid))\n",
    "%time xtrain_tfv =  tfv.transform(xtrain)\n",
    "%time xvalid_tfv = tfv.transform(xvalid)"
   ]
  },
  {
   "cell_type": "code",
   "execution_count": 30,
   "metadata": {},
   "outputs": [
    {
     "name": "stdout",
     "output_type": "stream",
     "text": [
      "Wall time: 22.8 s\n"
     ]
    }
   ],
   "source": [
    "%time xtest_tfv = tfv.transform(xtest)"
   ]
  },
  {
   "cell_type": "code",
   "execution_count": 24,
   "metadata": {
    "collapsed": true,
    "jupyter": {
     "outputs_hidden": true
    },
    "tags": []
   },
   "outputs": [
    {
     "name": "stdout",
     "output_type": "stream",
     "text": [
      "Wall time: 3min 50s\n",
      "Random Forest with TFIDF: 1.0\n",
      "              precision    recall  f1-score   support\n",
      "\n",
      "           1       0.98      0.29      0.44       182\n",
      "           2       1.00      0.05      0.10        76\n",
      "           3       1.00      0.19      0.31        43\n",
      "           4       0.82      0.39      0.53       297\n",
      "           6       1.00      0.19      0.31        81\n",
      "           8       0.42      0.97      0.58      1383\n",
      "           9       0.94      0.42      0.58       222\n",
      "          10       0.99      0.77      0.87       151\n",
      "          11       0.90      0.56      0.69        77\n",
      "          12       0.96      0.18      0.31       125\n",
      "          13       1.00      0.47      0.64        97\n",
      "          14       0.84      0.79      0.81       539\n",
      "          15       0.93      0.63      0.76       292\n",
      "          16       1.00      0.19      0.32        37\n",
      "          17       0.65      0.10      0.17       132\n",
      "          18       0.92      0.43      0.59       216\n",
      "          19       0.82      0.91      0.86       309\n",
      "          20       0.93      0.86      0.89       117\n",
      "          21       0.71      0.87      0.78       461\n",
      "          22       0.97      0.38      0.55        99\n",
      "          23       0.97      0.38      0.55        91\n",
      "          24       1.00      0.42      0.59        76\n",
      "          25       0.90      0.16      0.28       232\n",
      "          26       0.76      0.99      0.86       888\n",
      "          27       0.96      0.38      0.54        61\n",
      "          28       0.87      0.81      0.84       165\n",
      "          29       0.97      0.46      0.62       129\n",
      "          30       0.85      0.58      0.69       194\n",
      "          32       0.88      0.43      0.57       141\n",
      "          33       0.86      0.72      0.78       348\n",
      "          34       0.97      0.68      0.80        91\n",
      "          35       1.00      0.25      0.40       132\n",
      "          36       0.99      0.83      0.90       139\n",
      "          37       0.55      0.92      0.69       477\n",
      "          38       0.95      0.54      0.69       233\n",
      "          39       0.84      0.91      0.88       453\n",
      "          40       1.00      0.19      0.31        86\n",
      "          41       0.89      0.36      0.52       182\n",
      "          42       0.98      0.93      0.96       204\n",
      "          43       0.92      0.69      0.79       253\n",
      "          44       1.00      0.10      0.17        94\n",
      "          45       0.83      0.72      0.77       462\n",
      "          46       1.00      0.35      0.52       121\n",
      "          48       0.78      0.85      0.81       365\n",
      "          50       0.98      0.54      0.70       183\n",
      "\n",
      "    accuracy                           0.69     10736\n",
      "   macro avg       0.90      0.53      0.61     10736\n",
      "weighted avg       0.80      0.69      0.68     10736\n",
      "\n"
     ]
    }
   ],
   "source": [
    "from sklearn.ensemble import RandomForestClassifier\n",
    "from sklearn.metrics import classification_report\n",
    "\n",
    "clf = RandomForestClassifier(n_estimators=100, n_jobs=-1)\n",
    "%time clf.fit(xtrain_tfv, ytrain)\n",
    "print(\"Random Forest with TFIDF:\", clf.score(xtrain_tfv, ytrain))\n",
    "predictions = clf.predict(xvalid_tfv)\n",
    "print(classification_report(yvalid, predictions))"
   ]
  },
  {
   "cell_type": "code",
   "execution_count": null,
   "metadata": {},
   "outputs": [],
   "source": []
  },
  {
   "cell_type": "code",
   "execution_count": 16,
   "metadata": {},
   "outputs": [],
   "source": [
    "import time"
   ]
  },
  {
   "cell_type": "code",
   "execution_count": 40,
   "metadata": {},
   "outputs": [
    {
     "name": "stdout",
     "output_type": "stream",
     "text": [
      "Elapsed (with compilation) = 22.010324001312256\n"
     ]
    }
   ],
   "source": [
    "# embeddings using CountVectorizer\n",
    "def trial_ctv(xtrain, xvalid):\n",
    "    ctv = CountVectorizer(analyzer='word',token_pattern=r'\\w{1,}', stop_words = 'english')\n",
    "\n",
    "    # Fitting Count Vectorizer to both training and test sets\n",
    "    ctv.fit(list(xtrain) + list(xvalid))\n",
    "    xtrain_ctv =  ctv.transform(xtrain) \n",
    "    xvalid_ctv = ctv.transform(xvalid)\n",
    "    return xtrain_ctv, xvalid_ctv, ctv\n",
    "\n",
    "start = time.time()\n",
    "xtrain_ctv, xvalid_ctv, ctv = trial_ctv(xtrain, xvalid)\n",
    "end = time.time()\n",
    "print(\"Elapsed (with compilation) = %s\" % (end - start))"
   ]
  },
  {
   "cell_type": "code",
   "execution_count": 41,
   "metadata": {},
   "outputs": [
    {
     "name": "stdout",
     "output_type": "stream",
     "text": [
      "Wall time: 5.38 s\n"
     ]
    }
   ],
   "source": [
    "%time xtest_ctv = ctv.transform(xtest)"
   ]
  },
  {
   "cell_type": "code",
   "execution_count": 28,
   "metadata": {
    "collapsed": true,
    "jupyter": {
     "outputs_hidden": true
    },
    "tags": []
   },
   "outputs": [
    {
     "name": "stdout",
     "output_type": "stream",
     "text": [
      "Wall time: 49min 15s\n",
      "Random Forest with CV: 1.0\n",
      "              precision    recall  f1-score   support\n",
      "\n",
      "           1       1.00      0.02      0.04       182\n",
      "           2       0.00      0.00      0.00        76\n",
      "           3       0.00      0.00      0.00        43\n",
      "           4       0.86      0.17      0.28       297\n",
      "           6       1.00      0.15      0.26        81\n",
      "           8       0.24      0.99      0.38      1383\n",
      "           9       1.00      0.02      0.04       222\n",
      "          10       1.00      0.59      0.74       151\n",
      "          11       1.00      0.22      0.36        77\n",
      "          12       0.00      0.00      0.00       125\n",
      "          13       1.00      0.02      0.04        97\n",
      "          14       0.96      0.55      0.70       539\n",
      "          15       0.98      0.32      0.48       292\n",
      "          16       1.00      0.19      0.32        37\n",
      "          17       0.60      0.02      0.04       132\n",
      "          18       0.97      0.15      0.26       216\n",
      "          19       0.81      0.84      0.82       309\n",
      "          20       1.00      0.45      0.62       117\n",
      "          21       0.89      0.75      0.82       461\n",
      "          22       1.00      0.03      0.06        99\n",
      "          23       0.95      0.22      0.36        91\n",
      "          24       1.00      0.01      0.03        76\n",
      "          25       0.71      0.02      0.04       232\n",
      "          26       0.91      0.99      0.95       888\n",
      "          27       0.92      0.18      0.30        61\n",
      "          28       0.95      0.72      0.82       165\n",
      "          29       1.00      0.09      0.17       129\n",
      "          30       1.00      0.11      0.20       194\n",
      "          32       0.96      0.18      0.31       141\n",
      "          33       0.97      0.48      0.64       348\n",
      "          34       0.94      0.53      0.68        91\n",
      "          35       1.00      0.12      0.22       132\n",
      "          36       1.00      0.36      0.53       139\n",
      "          37       0.48      0.87      0.62       477\n",
      "          38       0.98      0.42      0.59       233\n",
      "          39       0.97      0.83      0.89       453\n",
      "          40       1.00      0.12      0.21        86\n",
      "          41       1.00      0.04      0.08       182\n",
      "          42       1.00      0.79      0.88       204\n",
      "          43       0.99      0.47      0.63       253\n",
      "          44       1.00      0.06      0.12        94\n",
      "          45       0.97      0.39      0.56       462\n",
      "          46       1.00      0.16      0.27       121\n",
      "          48       0.93      0.66      0.77       365\n",
      "          50       1.00      0.08      0.15       183\n",
      "\n",
      "    accuracy                           0.53     10736\n",
      "   macro avg       0.87      0.32      0.38     10736\n",
      "weighted avg       0.81      0.53      0.51     10736\n",
      "\n"
     ]
    }
   ],
   "source": [
    "clf = RandomForestClassifier(n_estimators=100, n_jobs=-1)\n",
    "%time clf.fit(xtrain_ctv, ytrain)\n",
    "print(\"Random Forest with CV:\", clf.score(xtrain_ctv, ytrain))\n",
    "predictions = clf.predict(xvalid_ctv)\n",
    "print(classification_report(yvalid, predictions))"
   ]
  },
  {
   "cell_type": "code",
   "execution_count": null,
   "metadata": {},
   "outputs": [],
   "source": []
  },
  {
   "cell_type": "markdown",
   "metadata": {},
   "source": [
    "## SVM"
   ]
  },
  {
   "cell_type": "code",
   "execution_count": 18,
   "metadata": {
    "collapsed": true,
    "jupyter": {
     "outputs_hidden": true
    },
    "tags": []
   },
   "outputs": [
    {
     "name": "stdout",
     "output_type": "stream",
     "text": [
      "Wall time: 47min 13s\n",
      "SVM with linear kernel and TFIDF Vectorizer: 0.9983000326021145\n",
      "              precision    recall  f1-score   support\n",
      "\n",
      "           1       0.98      0.99      0.99       182\n",
      "           2       0.99      0.95      0.97        76\n",
      "           3       1.00      1.00      1.00        43\n",
      "           4       0.91      0.87      0.89       297\n",
      "           6       1.00      0.98      0.99        81\n",
      "           8       0.97      0.99      0.98      1383\n",
      "           9       1.00      0.99      0.99       222\n",
      "          10       1.00      0.99      0.99       151\n",
      "          11       0.99      0.86      0.92        77\n",
      "          12       1.00      0.98      0.99       125\n",
      "          13       1.00      0.98      0.99        97\n",
      "          14       1.00      1.00      1.00       539\n",
      "          15       1.00      1.00      1.00       292\n",
      "          16       0.97      0.81      0.88        37\n",
      "          17       0.93      0.98      0.96       132\n",
      "          18       0.99      1.00      0.99       216\n",
      "          19       0.99      0.99      0.99       309\n",
      "          20       1.00      1.00      1.00       117\n",
      "          21       1.00      0.98      0.99       461\n",
      "          22       1.00      0.99      0.99        99\n",
      "          23       0.93      0.89      0.91        91\n",
      "          24       1.00      0.96      0.98        76\n",
      "          25       0.98      0.97      0.98       232\n",
      "          26       1.00      1.00      1.00       888\n",
      "          27       0.98      0.97      0.98        61\n",
      "          28       0.98      1.00      0.99       165\n",
      "          29       0.99      0.95      0.97       129\n",
      "          30       0.99      0.99      0.99       194\n",
      "          32       0.97      0.96      0.97       141\n",
      "          33       0.99      0.99      0.99       348\n",
      "          34       0.98      0.93      0.96        91\n",
      "          35       1.00      0.93      0.96       132\n",
      "          36       1.00      0.99      1.00       139\n",
      "          37       0.91      0.99      0.95       477\n",
      "          38       0.98      0.97      0.98       233\n",
      "          39       0.99      0.97      0.98       453\n",
      "          40       1.00      1.00      1.00        86\n",
      "          41       0.97      0.97      0.97       182\n",
      "          42       1.00      1.00      1.00       204\n",
      "          43       0.99      1.00      0.99       253\n",
      "          44       0.99      0.98      0.98        94\n",
      "          45       0.98      0.99      0.99       462\n",
      "          46       1.00      0.97      0.98       121\n",
      "          48       0.96      0.98      0.97       365\n",
      "          50       0.98      0.97      0.98       183\n",
      "\n",
      "    accuracy                           0.98     10736\n",
      "   macro avg       0.98      0.97      0.98     10736\n",
      "weighted avg       0.98      0.98      0.98     10736\n",
      "\n"
     ]
    }
   ],
   "source": [
    "from sklearn import svm\n",
    "from sklearn.metrics import classification_report\n",
    "\n",
    "clf = svm.SVC(kernel='linear',verbose=2)\n",
    "%time clf.fit(xtrain_tfv, ytrain)\n",
    "%time print(\"SVM with linear kernel and TFIDF Vectorizer:\", clf.score(xtrain_tfv, ytrain))\n",
    "predictions = clf.predict(xvalid_tfv)\n",
    "print(classification_report(yvalid, predictions))"
   ]
  },
  {
   "cell_type": "code",
   "execution_count": 20,
   "metadata": {},
   "outputs": [],
   "source": [
    "with open('SVM_tfv_linear.pkl', 'wb') as f:\n",
    "    pickle.dump(clf, f)"
   ]
  },
  {
   "cell_type": "code",
   "execution_count": 34,
   "metadata": {
    "collapsed": true,
    "jupyter": {
     "outputs_hidden": true
    },
    "tags": []
   },
   "outputs": [
    {
     "name": "stdout",
     "output_type": "stream",
     "text": [
      "              precision    recall  f1-score   support\n",
      "\n",
      "           1       0.93      0.92      0.92       475\n",
      "           2       0.86      0.26      0.40       125\n",
      "           3       1.00      0.21      0.35       151\n",
      "           4       0.62      0.90      0.74       992\n",
      "           6       0.94      0.55      0.69       214\n",
      "           8       0.80      0.99      0.88      3270\n",
      "           9       0.97      0.82      0.89       503\n",
      "          10       0.97      0.71      0.82       396\n",
      "          11       0.67      0.76      0.71        98\n",
      "          12       0.98      0.47      0.63       355\n",
      "          13       1.00      0.54      0.70       323\n",
      "          14       0.95      0.97      0.96      1228\n",
      "          15       0.94      0.90      0.92       505\n",
      "          16       1.00      0.31      0.48       215\n",
      "          17       0.92      0.83      0.88       384\n",
      "          18       0.89      0.76      0.82       753\n",
      "          19       0.63      0.76      0.69       522\n",
      "          20       0.99      0.89      0.94       248\n",
      "          21       0.92      0.99      0.95      1086\n",
      "          22       0.98      0.61      0.75       193\n",
      "          23       0.82      0.63      0.71       381\n",
      "          24       0.54      0.18      0.27       444\n",
      "          25       0.90      0.90      0.90       364\n",
      "          26       0.99      1.00      1.00      1934\n",
      "          27       1.00      0.42      0.59       137\n",
      "          28       0.91      0.98      0.94       338\n",
      "          29       0.93      0.91      0.92       158\n",
      "          30       0.81      0.89      0.85       310\n",
      "          32       0.95      0.75      0.84       467\n",
      "          33       0.86      0.74      0.79       429\n",
      "          34       0.86      0.23      0.37       344\n",
      "          35       0.88      0.51      0.64       257\n",
      "          36       1.00      0.71      0.83       469\n",
      "          37       0.50      0.94      0.66       913\n",
      "          38       0.95      0.86      0.90       443\n",
      "          39       0.93      0.96      0.94      1374\n",
      "          40       0.99      0.95      0.97       229\n",
      "          41       0.79      0.80      0.79       334\n",
      "          42       0.98      0.92      0.95       328\n",
      "          43       0.95      0.94      0.95       404\n",
      "          44       0.94      0.88      0.91       321\n",
      "          45       0.86      0.96      0.90      1156\n",
      "          46       0.99      0.82      0.90       490\n",
      "          48       0.90      0.96      0.93       902\n",
      "          50       0.96      0.92      0.94       674\n",
      "\n",
      "    accuracy                           0.85     25636\n",
      "   macro avg       0.89      0.75      0.79     25636\n",
      "weighted avg       0.87      0.85      0.85     25636\n",
      "\n",
      "Wall time: 53.5 ms\n"
     ]
    }
   ],
   "source": [
    "%time test_predictions = clf.predict(xtest_tfv)\n",
    "%time print(classification_report(ytest, test_predictions))"
   ]
  },
  {
   "cell_type": "code",
   "execution_count": 36,
   "metadata": {
    "collapsed": true,
    "jupyter": {
     "outputs_hidden": true
    },
    "tags": []
   },
   "outputs": [
    {
     "name": "stdout",
     "output_type": "stream",
     "text": [
      "Wall time: 28min 8s\n",
      "Wall time: 10min 30s\n",
      "              precision    recall  f1-score   support\n",
      "\n",
      "           1       0.98      0.98      0.98       182\n",
      "           2       0.96      0.88      0.92        76\n",
      "           3       1.00      0.95      0.98        43\n",
      "           4       0.88      0.85      0.86       297\n",
      "           6       0.99      0.89      0.94        81\n",
      "           8       0.96      0.99      0.97      1383\n",
      "           9       0.99      0.96      0.98       222\n",
      "          10       0.99      0.96      0.98       151\n",
      "          11       0.97      0.83      0.90        77\n",
      "          12       0.98      0.98      0.98       125\n",
      "          13       0.98      0.97      0.97        97\n",
      "          14       0.99      0.99      0.99       539\n",
      "          15       0.98      0.98      0.98       292\n",
      "          16       0.97      0.81      0.88        37\n",
      "          17       0.93      0.96      0.94       132\n",
      "          18       0.97      0.99      0.98       216\n",
      "          19       0.96      0.97      0.97       309\n",
      "          20       1.00      0.99      1.00       117\n",
      "          21       0.98      0.98      0.98       461\n",
      "          22       1.00      0.95      0.97        99\n",
      "          23       0.91      0.85      0.87        91\n",
      "          24       0.99      0.95      0.97        76\n",
      "          25       0.98      0.96      0.97       232\n",
      "          26       1.00      1.00      1.00       888\n",
      "          27       0.97      0.92      0.94        61\n",
      "          28       0.95      0.98      0.96       165\n",
      "          29       0.99      0.95      0.97       129\n",
      "          30       0.97      0.99      0.98       194\n",
      "          32       0.97      0.97      0.97       141\n",
      "          33       0.97      0.97      0.97       348\n",
      "          34       0.97      0.91      0.94        91\n",
      "          35       0.97      0.89      0.92       132\n",
      "          36       1.00      0.98      0.99       139\n",
      "          37       0.92      0.97      0.95       477\n",
      "          38       0.97      0.97      0.97       233\n",
      "          39       0.98      0.96      0.97       453\n",
      "          40       0.99      1.00      0.99        86\n",
      "          41       0.96      0.91      0.94       182\n",
      "          42       1.00      1.00      1.00       204\n",
      "          43       0.99      0.99      0.99       253\n",
      "          44       0.94      0.95      0.94        94\n",
      "          45       0.96      0.98      0.97       462\n",
      "          46       1.00      0.95      0.97       121\n",
      "          48       0.95      0.99      0.97       365\n",
      "          50       0.96      0.93      0.95       183\n",
      "\n",
      "    accuracy                           0.97     10736\n",
      "   macro avg       0.97      0.95      0.96     10736\n",
      "weighted avg       0.97      0.97      0.97     10736\n",
      "\n"
     ]
    }
   ],
   "source": [
    "clf = svm.SVC(kernel='linear')\n",
    "%time clf.fit(xtrain_ctv, ytrain)\n",
    "# print(\"SVM with linear kernel and Count Vectorizer:\", clf.score(xtrain_ctv, ytrain))\n",
    "%time predictions = clf.predict(xvalid_ctv)\n",
    "print(classification_report(yvalid, predictions))"
   ]
  },
  {
   "cell_type": "code",
   "execution_count": 37,
   "metadata": {},
   "outputs": [],
   "source": [
    "with open('SVM_ctv_linear.pkl', 'wb') as f:\n",
    "    pickle.dump(clf, f)"
   ]
  },
  {
   "cell_type": "code",
   "execution_count": 42,
   "metadata": {
    "collapsed": true,
    "jupyter": {
     "outputs_hidden": true
    },
    "tags": []
   },
   "outputs": [
    {
     "name": "stdout",
     "output_type": "stream",
     "text": [
      "Wall time: 25min 8s\n",
      "              precision    recall  f1-score   support\n",
      "\n",
      "           1       0.85      0.89      0.87       475\n",
      "           2       0.53      0.30      0.38       125\n",
      "           3       0.90      0.35      0.50       151\n",
      "           4       0.55      0.77      0.65       992\n",
      "           6       0.77      0.42      0.54       214\n",
      "           8       0.79      0.97      0.87      3270\n",
      "           9       0.90      0.70      0.79       503\n",
      "          10       0.94      0.69      0.80       396\n",
      "          11       0.52      0.72      0.60        98\n",
      "          12       0.88      0.32      0.47       355\n",
      "          13       0.92      0.50      0.65       323\n",
      "          14       0.89      0.94      0.92      1228\n",
      "          15       0.87      0.78      0.82       505\n",
      "          16       1.00      0.30      0.46       215\n",
      "          17       0.80      0.73      0.76       384\n",
      "          18       0.73      0.70      0.72       753\n",
      "          19       0.64      0.75      0.69       522\n",
      "          20       0.90      0.86      0.88       248\n",
      "          21       0.90      0.96      0.93      1086\n",
      "          22       0.93      0.51      0.66       193\n",
      "          23       0.74      0.56      0.63       381\n",
      "          24       0.56      0.15      0.24       444\n",
      "          25       0.73      0.85      0.79       364\n",
      "          26       0.98      1.00      0.99      1934\n",
      "          27       0.88      0.27      0.41       137\n",
      "          28       0.86      0.98      0.91       338\n",
      "          29       0.76      0.88      0.82       158\n",
      "          30       0.73      0.77      0.75       310\n",
      "          32       0.93      0.75      0.83       467\n",
      "          33       0.68      0.65      0.66       429\n",
      "          34       0.80      0.22      0.35       344\n",
      "          35       0.75      0.44      0.56       257\n",
      "          36       0.97      0.66      0.79       469\n",
      "          37       0.55      0.92      0.69       913\n",
      "          38       0.88      0.84      0.86       443\n",
      "          39       0.93      0.94      0.93      1374\n",
      "          40       0.96      0.93      0.94       229\n",
      "          41       0.70      0.78      0.74       334\n",
      "          42       0.95      0.91      0.93       328\n",
      "          43       0.90      0.95      0.92       404\n",
      "          44       0.87      0.81      0.84       321\n",
      "          45       0.81      0.87      0.84      1156\n",
      "          46       0.95      0.77      0.85       490\n",
      "          48       0.83      0.93      0.88       902\n",
      "          50       0.94      0.89      0.91       674\n",
      "\n",
      "    accuracy                           0.81     25636\n",
      "   macro avg       0.82      0.71      0.73     25636\n",
      "weighted avg       0.83      0.81      0.80     25636\n",
      "\n",
      "Wall time: 24.5 ms\n"
     ]
    }
   ],
   "source": [
    "%time test_predictions = clf.predict(xtest_ctv)\n",
    "%time print(classification_report(ytest, test_predictions))"
   ]
  },
  {
   "cell_type": "code",
   "execution_count": null,
   "metadata": {},
   "outputs": [],
   "source": []
  },
  {
   "cell_type": "code",
   "execution_count": null,
   "metadata": {},
   "outputs": [],
   "source": [
    "clf = svm.SVC(kernel='RBF', gamma=0.7, C = 1,verbose=2)\n",
    "%time clf.fit(xtrain_tfv, ytrain)\n",
    "print(\"SVM with RBF kernel and TFIDF Vectorizer:\", clf.score(xtrain_tfv, ytrain))\n",
    "predictions = clf.predict(xvalid_tfv)\n",
    "print(classification_report(yvalid, predictions))"
   ]
  },
  {
   "cell_type": "code",
   "execution_count": null,
   "metadata": {},
   "outputs": [],
   "source": [
    "clf = svm.SVC(kernel='RBF', gamma=0.7, C = 1,verbose=2)\n",
    "%time clf.fit(xtrain_ctv, ytrain)\n",
    "# print(\"SVM with RBF kernel and Count Vectorizer:\", clf.score(xtrain_ctv, ytrain))\n",
    "%time predictions = clf.predict(xvalid_ctv)\n",
    "print(classification_report(yvalid, predictions))"
   ]
  },
  {
   "cell_type": "code",
   "execution_count": null,
   "metadata": {},
   "outputs": [],
   "source": [
    "clf = svm.SVC(kernel='Polynomial', gamma=0.7, C = 1,verbose=2)\n",
    "%time clf.fit(xtrain_tfv, ytrain)\n",
    "print(\"SVM with Polynomial kernel and TFIDF Vectorizer:\", clf.score(xtrain_tfv, ytrain))\n",
    "predictions = clf.predict(xvalid_tfv)\n",
    "print(classification_report(yvalid, predictions))"
   ]
  },
  {
   "cell_type": "code",
   "execution_count": null,
   "metadata": {},
   "outputs": [],
   "source": [
    "clf = svm.SVC(kernel='Polynomial', gamma=0.7, C = 1,verbose=2)\n",
    "%time clf.fit(xtrain_ctv, ytrain)\n",
    "print(\"SVM with Polynomial kernel and Count Vectorizer:\", clf.score(xtrain_ctv, ytrain))\n",
    "predictions = clf.predict(xvalid_ctv)\n",
    "print(classification_report(yvalid, predictions))"
   ]
  },
  {
   "cell_type": "markdown",
   "metadata": {},
   "source": [
    "# Naive Bayes"
   ]
  },
  {
   "cell_type": "code",
   "execution_count": null,
   "metadata": {},
   "outputs": [],
   "source": [
    "from sklearn.naive_bayes import MultinomialNB\n",
    "clf = MultinomialNB()\n",
    "clf.fit(xtrain_ctv, ytrain) #Train Naive Bayes classifier\n",
    "yv = clf.predict(xvalid_ctv) #validation set\n",
    "print(classification_report(yvalid, yv)) #precision, recall and f1 score on the validation set\n",
    "xtest = test_df.text.values\n",
    "yt = test_author#test set\n",
    "# Fitting Count Vectorizer to both test set\n",
    "xtest_ctv =  ctv.transform(xtest) \n",
    "ytest = clf.predict(xtest_ctv) #test set\n",
    "print(classification_report(yt, ytest)) #precision, recall and f1 score on t"
   ]
  }
 ],
 "metadata": {
  "kernelspec": {
   "display_name": "Python 3 (ipykernel)",
   "language": "python",
   "name": "python3"
  },
  "language_info": {
   "codemirror_mode": {
    "name": "ipython",
    "version": 3
   },
   "file_extension": ".py",
   "mimetype": "text/x-python",
   "name": "python",
   "nbconvert_exporter": "python",
   "pygments_lexer": "ipython3",
   "version": "3.8.13"
  }
 },
 "nbformat": 4,
 "nbformat_minor": 4
}

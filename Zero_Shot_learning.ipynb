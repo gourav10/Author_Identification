{
 "cells": [
  {
   "cell_type": "markdown",
   "id": "2e3c07c4-d07f-42fe-a224-dfc9967521fd",
   "metadata": {},
   "source": [
    "For zero shot learning we experiment using The Huggingface transform. \n",
    "The experiment basically tries to identify the unknown classes encountered in the test model"
   ]
  },
  {
   "cell_type": "markdown",
   "id": "62344fbb-b17e-4298-a8a1-35cb52d362bc",
   "metadata": {},
   "source": [
    "# Importing Depdencencies"
   ]
  },
  {
   "cell_type": "code",
   "execution_count": 8,
   "id": "35615ea2",
   "metadata": {},
   "outputs": [
    {
     "name": "stdout",
     "output_type": "stream",
     "text": [
      "Collecting langdetect\n",
      "  Downloading langdetect-1.0.9.tar.gz (981 kB)\n",
      "Requirement already satisfied: six in c:\\users\\ht_13\\anaconda3\\lib\\site-packages (from langdetect) (1.16.0)\n",
      "Building wheels for collected packages: langdetect\n",
      "  Building wheel for langdetect (setup.py): started\n",
      "  Building wheel for langdetect (setup.py): finished with status 'done'\n",
      "  Created wheel for langdetect: filename=langdetect-1.0.9-py3-none-any.whl size=993242 sha256=ecfeb50ed99ca7a88e5e1eeb98ff363f4abde35913f60f5d609b594cf3a0cf18\n",
      "  Stored in directory: c:\\users\\ht_13\\appdata\\local\\pip\\cache\\wheels\\d1\\c1\\d9\\7e068de779d863bc8f8fc9467d85e25cfe47fa5051fff1a1bb\n",
      "Successfully built langdetect\n",
      "Installing collected packages: langdetect\n",
      "Successfully installed langdetect-1.0.9\n"
     ]
    }
   ],
   "source": [
    "# !pip install transformers==3.1.0\n",
    "!pip install langdetect"
   ]
  },
  {
   "cell_type": "code",
   "execution_count": 1,
   "id": "ed876ab2",
   "metadata": {},
   "outputs": [],
   "source": [
    "import pandas as pd\n",
    "import numpy\n",
    "import warnings\n",
    "warnings.filterwarnings(\"ignore\")\n",
    "%matplotlib inline\n",
    "import seaborn as sns\n",
    "import matplotlib.pyplot as plt\n",
    "import pprint\n",
    "import numpy as np\n",
    "import torch\n",
    "from tqdm import tqdm"
   ]
  },
  {
   "cell_type": "code",
   "execution_count": 2,
   "id": "5ad3296a",
   "metadata": {},
   "outputs": [],
   "source": [
    "import torch\n",
    "from torch.utils.data import DataLoader"
   ]
  },
  {
   "cell_type": "code",
   "execution_count": 3,
   "id": "586a075d",
   "metadata": {},
   "outputs": [],
   "source": [
    "from torch import nn\n",
    "import torchvision, torch\n",
    "# from torchsummary import summary\n",
    "from torchvision import transforms as T\n",
    "from torch import optim\n",
    "import copy"
   ]
  },
  {
   "cell_type": "code",
   "execution_count": 4,
   "id": "318ff43c",
   "metadata": {},
   "outputs": [],
   "source": [
    "import scipy.io as sio"
   ]
  },
  {
   "cell_type": "code",
   "execution_count": 5,
   "id": "97e17058",
   "metadata": {},
   "outputs": [],
   "source": [
    "from transformers import pipeline\n",
    "from langdetect import detect"
   ]
  },
  {
   "cell_type": "markdown",
   "id": "264a2b70-b787-4655-88ed-5c3406c0965c",
   "metadata": {},
   "source": [
    "# Loading Training and Testing Data"
   ]
  },
  {
   "cell_type": "code",
   "execution_count": null,
   "id": "98fb79a9",
   "metadata": {},
   "outputs": [],
   "source": [
    "train_df = pd.read_csv('./dataset/Gungor_2018_VictorianAuthorAttribution_data-train.csv',encoding='latin-1')"
   ]
  },
  {
   "cell_type": "code",
   "execution_count": 6,
   "id": "39574a43",
   "metadata": {},
   "outputs": [],
   "source": [
    "test_df = pd.read_csv('dataset/dataset/Gungor_2018_VictorianAuthorAttribution_data.csv',encoding='latin-1')"
   ]
  },
  {
   "cell_type": "code",
   "execution_count": 7,
   "id": "9116ee54",
   "metadata": {},
   "outputs": [],
   "source": [
    "test_author = sio.loadmat('dataset/dataset/test_author.mat')[\"test_author\"]"
   ]
  },
  {
   "cell_type": "code",
   "execution_count": 8,
   "id": "e7328b7c",
   "metadata": {},
   "outputs": [
    {
     "data": {
      "text/plain": [
       "text    38809\n",
       "dtype: int64"
      ]
     },
     "execution_count": 8,
     "metadata": {},
     "output_type": "execute_result"
    }
   ],
   "source": [
    "test_df.count()"
   ]
  },
  {
   "cell_type": "code",
   "execution_count": 9,
   "id": "82abd60b",
   "metadata": {},
   "outputs": [],
   "source": [
    "author_list_path='dataset/dataset/author_list.txt'"
   ]
  },
  {
   "cell_type": "code",
   "execution_count": 10,
   "id": "dc66fb73",
   "metadata": {},
   "outputs": [],
   "source": [
    "def load_author_names():\n",
    "    f = open(author_list_path, 'r')\n",
    "    author_list = f.read().split('\\n')\n",
    "    f.close()\n",
    "    author_catalog = {}\n",
    "    for i in range(len(author_list)):\n",
    "        author_catalog[i+1] = author_list[i]\n",
    "    return author_catalog"
   ]
  },
  {
   "cell_type": "code",
   "execution_count": 11,
   "id": "92b160dd",
   "metadata": {},
   "outputs": [],
   "source": [
    "author_catalog = load_author_names()"
   ]
  },
  {
   "cell_type": "code",
   "execution_count": 12,
   "id": "2b6bc3cc",
   "metadata": {},
   "outputs": [],
   "source": [
    "test_df['author_id'] = test_author"
   ]
  },
  {
   "cell_type": "code",
   "execution_count": 13,
   "id": "bf47796d",
   "metadata": {},
   "outputs": [
    {
     "data": {
      "text/html": [
       "<div>\n",
       "<style scoped>\n",
       "    .dataframe tbody tr th:only-of-type {\n",
       "        vertical-align: middle;\n",
       "    }\n",
       "\n",
       "    .dataframe tbody tr th {\n",
       "        vertical-align: top;\n",
       "    }\n",
       "\n",
       "    .dataframe thead th {\n",
       "        text-align: right;\n",
       "    }\n",
       "</style>\n",
       "<table border=\"1\" class=\"dataframe\">\n",
       "  <thead>\n",
       "    <tr style=\"text-align: right;\">\n",
       "      <th></th>\n",
       "      <th>text</th>\n",
       "      <th>author_id</th>\n",
       "    </tr>\n",
       "  </thead>\n",
       "  <tbody>\n",
       "    <tr>\n",
       "      <th>0</th>\n",
       "      <td>nt it seems te me how much money is he worth a...</td>\n",
       "      <td>1</td>\n",
       "    </tr>\n",
       "    <tr>\n",
       "      <th>1</th>\n",
       "      <td>to talk about why you heard of such a case as ...</td>\n",
       "      <td>1</td>\n",
       "    </tr>\n",
       "    <tr>\n",
       "      <th>2</th>\n",
       "      <td>my foot on the ground and said i believe you d...</td>\n",
       "      <td>1</td>\n",
       "    </tr>\n",
       "    <tr>\n",
       "      <th>3</th>\n",
       "      <td>hour or wait for miss oh wait for by all means...</td>\n",
       "      <td>1</td>\n",
       "    </tr>\n",
       "    <tr>\n",
       "      <th>4</th>\n",
       "      <td>will not listen to such words now go and remem...</td>\n",
       "      <td>1</td>\n",
       "    </tr>\n",
       "  </tbody>\n",
       "</table>\n",
       "</div>"
      ],
      "text/plain": [
       "                                                text  author_id\n",
       "0  nt it seems te me how much money is he worth a...          1\n",
       "1  to talk about why you heard of such a case as ...          1\n",
       "2  my foot on the ground and said i believe you d...          1\n",
       "3  hour or wait for miss oh wait for by all means...          1\n",
       "4  will not listen to such words now go and remem...          1"
      ]
     },
     "execution_count": 13,
     "metadata": {},
     "output_type": "execute_result"
    }
   ],
   "source": [
    "test_df.head()"
   ]
  },
  {
   "cell_type": "code",
   "execution_count": 14,
   "id": "90163d90",
   "metadata": {},
   "outputs": [],
   "source": [
    "test_df['author_name'] = [author_catalog[i] for i in test_df['author_id']]"
   ]
  },
  {
   "cell_type": "code",
   "execution_count": 15,
   "id": "9bb6a2b7",
   "metadata": {},
   "outputs": [
    {
     "name": "stdout",
     "output_type": "stream",
     "text": [
      "<class 'pandas.core.frame.DataFrame'>\n",
      "RangeIndex: 38809 entries, 0 to 38808\n",
      "Data columns (total 3 columns):\n",
      " #   Column       Non-Null Count  Dtype \n",
      "---  ------       --------------  ----- \n",
      " 0   text         38809 non-null  object\n",
      " 1   author_id    38809 non-null  uint8 \n",
      " 2   author_name  38809 non-null  object\n",
      "dtypes: object(2), uint8(1)\n",
      "memory usage: 644.4+ KB\n"
     ]
    }
   ],
   "source": [
    "test_df.info()"
   ]
  },
  {
   "cell_type": "code",
   "execution_count": 16,
   "id": "a2920363",
   "metadata": {},
   "outputs": [],
   "source": [
    "authors = [author_catalog[i] for i in test_df['author_id'].unique()]"
   ]
  },
  {
   "cell_type": "markdown",
   "id": "72562dd2-c544-4cb4-9dfc-1de7683e2806",
   "metadata": {},
   "source": [
    "# Zero-shot Learning Implementation"
   ]
  },
  {
   "cell_type": "markdown",
   "id": "46c2ce43-f1b1-45be-989a-1baeb883f4a6",
   "metadata": {},
   "source": [
    "The classifier takes in two sequences and determines whether they contradict each other, entail each other, or neither.\n",
    "We set a threshold for the probabilities obtained from the results in the experiments mentioned above.\n"
   ]
  },
  {
   "cell_type": "code",
   "execution_count": 17,
   "id": "8a6afb9f",
   "metadata": {
    "tags": []
   },
   "outputs": [
    {
     "name": "stderr",
     "output_type": "stream",
     "text": [
      "No model was supplied, defaulted to facebook/bart-large-mnli (https://huggingface.co/facebook/bart-large-mnli)\n"
     ]
    },
    {
     "data": {
      "application/vnd.jupyter.widget-view+json": {
       "model_id": "d82983746d9746e8bf41e2d9be9cd740",
       "version_major": 2,
       "version_minor": 0
      },
      "text/plain": [
       "Downloading:   0%|          | 0.00/26.0 [00:00<?, ?B/s]"
      ]
     },
     "metadata": {},
     "output_type": "display_data"
    },
    {
     "data": {
      "application/vnd.jupyter.widget-view+json": {
       "model_id": "586a5843400d4e38bbb4986295544c4e",
       "version_major": 2,
       "version_minor": 0
      },
      "text/plain": [
       "Downloading:   0%|          | 0.00/878k [00:00<?, ?B/s]"
      ]
     },
     "metadata": {},
     "output_type": "display_data"
    },
    {
     "data": {
      "application/vnd.jupyter.widget-view+json": {
       "model_id": "fcc55462e74d43b7bd6e83e516f3811d",
       "version_major": 2,
       "version_minor": 0
      },
      "text/plain": [
       "Downloading:   0%|          | 0.00/446k [00:00<?, ?B/s]"
      ]
     },
     "metadata": {},
     "output_type": "display_data"
    },
    {
     "data": {
      "application/vnd.jupyter.widget-view+json": {
       "model_id": "bd4e2d2c67ae4d89aa1be2781bf91d82",
       "version_major": 2,
       "version_minor": 0
      },
      "text/plain": [
       "Downloading:   0%|          | 0.00/1.29M [00:00<?, ?B/s]"
      ]
     },
     "metadata": {},
     "output_type": "display_data"
    }
   ],
   "source": [
    "classifier = pipeline(\"zero-shot-classification\",device = 0)"
   ]
  },
  {
   "cell_type": "code",
   "execution_count": 27,
   "id": "bd0f5b45-7c27-42fe-83fc-307688cc4aab",
   "metadata": {},
   "outputs": [],
   "source": [
    "test_df = test_df.sample(frac=1).reset_index(drop=True)"
   ]
  },
  {
   "cell_type": "code",
   "execution_count": 29,
   "id": "89ee1445-9577-43ad-9d70-8a469f1523f1",
   "metadata": {},
   "outputs": [],
   "source": [
    "candidate_results = [ 0 for i in range(len(authors))]\n",
    "results = []\n",
    "candidate_results_argmax = []"
   ]
  },
  {
   "cell_type": "markdown",
   "id": "e21745b0-59b8-4aa5-96bb-34cad999f3e3",
   "metadata": {},
   "source": [
    "#### Perform classification for 1000 text input"
   ]
  },
  {
   "cell_type": "markdown",
   "id": "b951e356-13d0-4ce4-8b61-33b9ffb24a2c",
   "metadata": {},
   "source": [
    "**Confidence Threshold:** We set a threshold for the probabilities obtained from the results in the experiments mentioned above. If the confidence on the scores is below the threshold, we classify the sample as unknown and if the scores are equal or above threshold, we classify the results into the known classes."
   ]
  },
  {
   "cell_type": "code",
   "execution_count": 30,
   "id": "f7234ae8",
   "metadata": {
    "tags": []
   },
   "outputs": [
    {
     "name": "stderr",
     "output_type": "stream",
     "text": [
      "100%|████████████████████████████████████████████████████████████████████████████| 1000/1000 [3:05:48<00:00, 11.15s/it]"
     ]
    },
    {
     "name": "stdout",
     "output_type": "stream",
     "text": [
      "[0, 0, 0, 0, 0, 0, 0, 0, 0, 0, 0, 0, 0, 0, 0, 0, 0, 0, 0, 0, 0, 0, 0, 0, 0, 0, 0, 0, 0, 0, 0, 0, 0, 0, 0, 0, 0, 0, 0, 0, 0, 0, 0, 0, 0, 0, 0, 0, 0, 0]\n"
     ]
    },
    {
     "name": "stderr",
     "output_type": "stream",
     "text": [
      "\n"
     ]
    }
   ],
   "source": [
    "for text in tqdm(test_df['text'].values[:1000]):\n",
    "    # To do multi-class classification, simply pass multi_class=True.\n",
    "    # In this case, the scores will be independent, but each will fall between 0 and 1.\n",
    "    res = classifier(text, authors)\n",
    "    \n",
    "    SCORES = res[\"scores\"]\n",
    "    CLASSES = res[\"labels\"]\n",
    "    results.append((SCORES,CLASSES))\n",
    "    BEST_INDEX = np.argmax(SCORES)\n",
    "    predicted_class = CLASSES[BEST_INDEX]\n",
    "    predicted_score = SCORES[BEST_INDEX]\n",
    "    candidate_results_argmax.append(predicted_class)\n",
    "    for i,author in enumerate(authors):\n",
    "        if predicted_class == author and predicted_score > 0.5:\n",
    "            candidate_results[i] = candidate_results[i]+1\n",
    "\n",
    "print(candidate_results)"
   ]
  },
  {
   "cell_type": "markdown",
   "id": "eb0f1a30-d4a2-4028-a8cf-112aaa7d6510",
   "metadata": {},
   "source": [
    "We performed zero-shot learning for 1000 text inputs, but got very low confidence scores for 50 classes, this is happened because the transformer was never trained such large multi-class classification."
   ]
  },
  {
   "cell_type": "code",
   "execution_count": null,
   "id": "17434467-2396-470a-b729-0d96373e365f",
   "metadata": {},
   "outputs": [],
   "source": []
  }
 ],
 "metadata": {
  "kernelspec": {
   "display_name": "Python 3 (ipykernel)",
   "language": "python",
   "name": "python3"
  },
  "language_info": {
   "codemirror_mode": {
    "name": "ipython",
    "version": 3
   },
   "file_extension": ".py",
   "mimetype": "text/x-python",
   "name": "python",
   "nbconvert_exporter": "python",
   "pygments_lexer": "ipython3",
   "version": "3.8.13"
  }
 },
 "nbformat": 4,
 "nbformat_minor": 5
}

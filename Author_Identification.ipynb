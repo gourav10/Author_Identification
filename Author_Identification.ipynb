{
  "nbformat": 4,
  "nbformat_minor": 0,
  "metadata": {
    "colab": {
      "name": "Author Identification.ipynb",
      "provenance": [],
      "authorship_tag": "ABX9TyOBYnqPO7K4eF+JFRI+4P6K",
      "include_colab_link": true
    },
    "kernelspec": {
      "name": "python3",
      "display_name": "Python 3"
    },
    "language_info": {
      "name": "python"
    }
  },
  "cells": [
    {
      "cell_type": "markdown",
      "metadata": {
        "id": "view-in-github",
        "colab_type": "text"
      },
      "source": [
        "<a href=\"https://colab.research.google.com/github/gourav10/Author_Identification/blob/main/Author_Identification.ipynb\" target=\"_parent\"><img src=\"https://colab.research.google.com/assets/colab-badge.svg\" alt=\"Open In Colab\"/></a>"
      ]
    },
    {
      "cell_type": "markdown",
      "source": [
        "# Authorship Identification"
      ],
      "metadata": {
        "id": "QOT0soD5mOcw"
      }
    },
    {
      "cell_type": "code",
      "execution_count": 2,
      "metadata": {
        "id": "n9nldaA7mLDs",
        "colab": {
          "base_uri": "https://localhost:8080/"
        },
        "outputId": "fd3e9810-71d7-4bdc-b732-e748137821d7"
      },
      "outputs": [
        {
          "output_type": "stream",
          "name": "stdout",
          "text": [
            "Mounted at /content/gdrive\n"
          ]
        }
      ],
      "source": [
        "from google.colab import drive\n",
        "drive.mount('/content/gdrive')"
      ]
    },
    {
      "cell_type": "code",
      "source": [
        "train_dataset_path = '/content/gdrive/MyDrive/CS6140/Author_Identification/Gungor_2018_VictorianAuthorAttribution_data-train.csv'\n",
        "test_dataset_path = '/content/gdrive/MyDrive/CS6140/Author_Identification/Gungor_2018_VictorianAuthorAttribution_data.csv'\n",
        "author_list_path='/content/gdrive/MyDrive/CS6140/Author_Identification/author_list.txt'"
      ],
      "metadata": {
        "id": "40a5x8RiExUF"
      },
      "execution_count": 4,
      "outputs": []
    },
    {
      "cell_type": "code",
      "source": [
        "import pandas as pd\n",
        "import pprint"
      ],
      "metadata": {
        "id": "kZmItH6AIJIZ"
      },
      "execution_count": 5,
      "outputs": []
    },
    {
      "cell_type": "code",
      "source": [
        "import warnings\n",
        "warnings.filterwarnings(\"ignore\")\n",
        "%matplotlib inline\n",
        "\n",
        "import matplotlib.pyplot as plt\n",
        "import seaborn as sns"
      ],
      "metadata": {
        "id": "ik7IMYa8PrHR"
      },
      "execution_count": 6,
      "outputs": []
    },
    {
      "cell_type": "code",
      "source": [
        "train_df = pd.read_csv(train_dataset_path, encoding='latin-1')\n",
        "test_df = pd.read_csv(test_dataset_path, encoding='latin-1')"
      ],
      "metadata": {
        "id": "eeTbuXk_ILpx"
      },
      "execution_count": 7,
      "outputs": []
    },
    {
      "cell_type": "code",
      "source": [
        "train_df.head()"
      ],
      "metadata": {
        "colab": {
          "base_uri": "https://localhost:8080/",
          "height": 206
        },
        "id": "KDkVNXuIIZDg",
        "outputId": "b083d3b1-2f29-4f82-c4bf-e3474eb07e9f"
      },
      "execution_count": 8,
      "outputs": [
        {
          "output_type": "execute_result",
          "data": {
            "text/plain": [
              "                                                text  author\n",
              "0  ou have time to listen i will give you the ent...       1\n",
              "1  wish for solitude he was twenty years of age a...       1\n",
              "2  and the skirt blew in perfect freedom about th...       1\n",
              "3  of san and the rows of shops opposite impresse...       1\n",
              "4  an hour s walk was as tiresome as three in a s...       1"
            ],
            "text/html": [
              "\n",
              "  <div id=\"df-ec8b9bb7-9c5f-461e-af83-302bab43c19d\">\n",
              "    <div class=\"colab-df-container\">\n",
              "      <div>\n",
              "<style scoped>\n",
              "    .dataframe tbody tr th:only-of-type {\n",
              "        vertical-align: middle;\n",
              "    }\n",
              "\n",
              "    .dataframe tbody tr th {\n",
              "        vertical-align: top;\n",
              "    }\n",
              "\n",
              "    .dataframe thead th {\n",
              "        text-align: right;\n",
              "    }\n",
              "</style>\n",
              "<table border=\"1\" class=\"dataframe\">\n",
              "  <thead>\n",
              "    <tr style=\"text-align: right;\">\n",
              "      <th></th>\n",
              "      <th>text</th>\n",
              "      <th>author</th>\n",
              "    </tr>\n",
              "  </thead>\n",
              "  <tbody>\n",
              "    <tr>\n",
              "      <th>0</th>\n",
              "      <td>ou have time to listen i will give you the ent...</td>\n",
              "      <td>1</td>\n",
              "    </tr>\n",
              "    <tr>\n",
              "      <th>1</th>\n",
              "      <td>wish for solitude he was twenty years of age a...</td>\n",
              "      <td>1</td>\n",
              "    </tr>\n",
              "    <tr>\n",
              "      <th>2</th>\n",
              "      <td>and the skirt blew in perfect freedom about th...</td>\n",
              "      <td>1</td>\n",
              "    </tr>\n",
              "    <tr>\n",
              "      <th>3</th>\n",
              "      <td>of san and the rows of shops opposite impresse...</td>\n",
              "      <td>1</td>\n",
              "    </tr>\n",
              "    <tr>\n",
              "      <th>4</th>\n",
              "      <td>an hour s walk was as tiresome as three in a s...</td>\n",
              "      <td>1</td>\n",
              "    </tr>\n",
              "  </tbody>\n",
              "</table>\n",
              "</div>\n",
              "      <button class=\"colab-df-convert\" onclick=\"convertToInteractive('df-ec8b9bb7-9c5f-461e-af83-302bab43c19d')\"\n",
              "              title=\"Convert this dataframe to an interactive table.\"\n",
              "              style=\"display:none;\">\n",
              "        \n",
              "  <svg xmlns=\"http://www.w3.org/2000/svg\" height=\"24px\"viewBox=\"0 0 24 24\"\n",
              "       width=\"24px\">\n",
              "    <path d=\"M0 0h24v24H0V0z\" fill=\"none\"/>\n",
              "    <path d=\"M18.56 5.44l.94 2.06.94-2.06 2.06-.94-2.06-.94-.94-2.06-.94 2.06-2.06.94zm-11 1L8.5 8.5l.94-2.06 2.06-.94-2.06-.94L8.5 2.5l-.94 2.06-2.06.94zm10 10l.94 2.06.94-2.06 2.06-.94-2.06-.94-.94-2.06-.94 2.06-2.06.94z\"/><path d=\"M17.41 7.96l-1.37-1.37c-.4-.4-.92-.59-1.43-.59-.52 0-1.04.2-1.43.59L10.3 9.45l-7.72 7.72c-.78.78-.78 2.05 0 2.83L4 21.41c.39.39.9.59 1.41.59.51 0 1.02-.2 1.41-.59l7.78-7.78 2.81-2.81c.8-.78.8-2.07 0-2.86zM5.41 20L4 18.59l7.72-7.72 1.47 1.35L5.41 20z\"/>\n",
              "  </svg>\n",
              "      </button>\n",
              "      \n",
              "  <style>\n",
              "    .colab-df-container {\n",
              "      display:flex;\n",
              "      flex-wrap:wrap;\n",
              "      gap: 12px;\n",
              "    }\n",
              "\n",
              "    .colab-df-convert {\n",
              "      background-color: #E8F0FE;\n",
              "      border: none;\n",
              "      border-radius: 50%;\n",
              "      cursor: pointer;\n",
              "      display: none;\n",
              "      fill: #1967D2;\n",
              "      height: 32px;\n",
              "      padding: 0 0 0 0;\n",
              "      width: 32px;\n",
              "    }\n",
              "\n",
              "    .colab-df-convert:hover {\n",
              "      background-color: #E2EBFA;\n",
              "      box-shadow: 0px 1px 2px rgba(60, 64, 67, 0.3), 0px 1px 3px 1px rgba(60, 64, 67, 0.15);\n",
              "      fill: #174EA6;\n",
              "    }\n",
              "\n",
              "    [theme=dark] .colab-df-convert {\n",
              "      background-color: #3B4455;\n",
              "      fill: #D2E3FC;\n",
              "    }\n",
              "\n",
              "    [theme=dark] .colab-df-convert:hover {\n",
              "      background-color: #434B5C;\n",
              "      box-shadow: 0px 1px 3px 1px rgba(0, 0, 0, 0.15);\n",
              "      filter: drop-shadow(0px 1px 2px rgba(0, 0, 0, 0.3));\n",
              "      fill: #FFFFFF;\n",
              "    }\n",
              "  </style>\n",
              "\n",
              "      <script>\n",
              "        const buttonEl =\n",
              "          document.querySelector('#df-ec8b9bb7-9c5f-461e-af83-302bab43c19d button.colab-df-convert');\n",
              "        buttonEl.style.display =\n",
              "          google.colab.kernel.accessAllowed ? 'block' : 'none';\n",
              "\n",
              "        async function convertToInteractive(key) {\n",
              "          const element = document.querySelector('#df-ec8b9bb7-9c5f-461e-af83-302bab43c19d');\n",
              "          const dataTable =\n",
              "            await google.colab.kernel.invokeFunction('convertToInteractive',\n",
              "                                                     [key], {});\n",
              "          if (!dataTable) return;\n",
              "\n",
              "          const docLinkHtml = 'Like what you see? Visit the ' +\n",
              "            '<a target=\"_blank\" href=https://colab.research.google.com/notebooks/data_table.ipynb>data table notebook</a>'\n",
              "            + ' to learn more about interactive tables.';\n",
              "          element.innerHTML = '';\n",
              "          dataTable['output_type'] = 'display_data';\n",
              "          await google.colab.output.renderOutput(dataTable, element);\n",
              "          const docLink = document.createElement('div');\n",
              "          docLink.innerHTML = docLinkHtml;\n",
              "          element.appendChild(docLink);\n",
              "        }\n",
              "      </script>\n",
              "    </div>\n",
              "  </div>\n",
              "  "
            ]
          },
          "metadata": {},
          "execution_count": 8
        }
      ]
    },
    {
      "cell_type": "code",
      "source": [
        "train_df.hist(column='author',grid=False,bins=50,rwidth=1)"
      ],
      "metadata": {
        "colab": {
          "base_uri": "https://localhost:8080/",
          "height": 316
        },
        "id": "HQbcU69wK7UH",
        "outputId": "fee2e430-6915-4eb5-f56f-7d9d0042e698"
      },
      "execution_count": 9,
      "outputs": [
        {
          "output_type": "execute_result",
          "data": {
            "text/plain": [
              "array([[<matplotlib.axes._subplots.AxesSubplot object at 0x7fbcfbb43f50>]],\n",
              "      dtype=object)"
            ]
          },
          "metadata": {},
          "execution_count": 9
        },
        {
          "output_type": "display_data",
          "data": {
            "text/plain": [
              "<Figure size 432x288 with 1 Axes>"
            ],
            "image/png": "[encoded data removed]"
          },
          "metadata": {
            "needs_background": "light"
          }
        }
      ]
    },
    {
      "cell_type": "code",
      "source": [
        "def load_author_names():\n",
        "  f = open(author_list_path, 'r')\n",
        "  author_list = f.read().split('\\n')\n",
        "  f.close()\n",
        "  author_catalog = {}\n",
        "  for i in range(len(author_list)):\n",
        "    author_catalog[i+1] = author_list[i]\n",
        "  return author_catalog\n",
        "\n",
        "\n",
        "pprint.pprint(load_author_names())"
      ],
      "metadata": {
        "colab": {
          "base_uri": "https://localhost:8080/"
        },
        "id": "6QhSIqw6L1C-",
        "outputId": "58a3cd03-49e7-4f1d-bbe7-a8aec0e59658"
      },
      "execution_count": 46,
      "outputs": [
        {
          "output_type": "stream",
          "name": "stdout",
          "text": [
            "{1: 'Arthur Conan Doyle',\n",
            " 2: 'Charles Darwin',\n",
            " 3: 'Charles Dickens',\n",
            " 4: 'Edith Wharton',\n",
            " 5: 'George Eliot',\n",
            " 6: 'Horace Greeley',\n",
            " 7: 'Jack London',\n",
            " 8: 'James Baldwin',\n",
            " 9: 'Jane Austen',\n",
            " 10: 'John Muir',\n",
            " 11: 'Joseph Conrad',\n",
            " 12: 'Mark Twain',\n",
            " 13: 'Nathaniel Hawthorne',\n",
            " 14: 'Ralph Emerson',\n",
            " 15: 'Robert Louis Stevenson',\n",
            " 16: 'Rudyard Kipling',\n",
            " 17: 'Sinclair Lewis',\n",
            " 18: 'Theodore Dreiser',\n",
            " 19: 'Thomas Hardy',\n",
            " 20: 'Walt Whitman',\n",
            " 21: 'Washington Irving',\n",
            " 22: 'William Carleton',\n",
            " 23: 'Albert Ross',\n",
            " 24: 'Anne Manning',\n",
            " 25: 'Arlo Bates',\n",
            " 26: 'Bret Harte',\n",
            " 27: 'Catharine Maria Sedgwick',\n",
            " 28: 'Charles Reade',\n",
            " 29: 'Edward Eggleston',\n",
            " 30: 'Fergus Hume',\n",
            " 31: 'Frances Hodgson Burnett',\n",
            " 32: 'George Moore',\n",
            " 33: 'George William Curtis',\n",
            " 34: 'Helen Mathers',\n",
            " 35: 'Henry Rider Haggard',\n",
            " 36: 'Isabella Lucy Bird',\n",
            " 37: 'Jacob Abbott',\n",
            " 38: 'James Grant',\n",
            " 39: 'James Payn',\n",
            " 40: 'John Kendrick Bangs',\n",
            " 41: 'John Pendleton Kennedy',\n",
            " 42: 'John Strange Winter',\n",
            " 43: 'Lucas Malet',\n",
            " 44: 'Marie Corelli',\n",
            " 45: 'Oliver Optic',\n",
            " 46: 'Sarah Orne Jewett',\n",
            " 47: 'Sarah Stickney Ellis',\n",
            " 48: 'Thomas Anstey Guthrie',\n",
            " 49: 'Thomas Nelson Page',\n",
            " 50: 'William Black'}\n"
          ]
        }
      ]
    },
    {
      "cell_type": "code",
      "source": [
        "def get_author_content_distribution(train_df):\n",
        "  author_catalog = load_author_names()\n",
        "  lookup_table = {}\n",
        "  for i in range(train_df['author'].count()):\n",
        "    author_id = train_df['author'].iloc[i]\n",
        "    try:\n",
        "      if(author_catalog[author_id] in lookup_table.keys()):\n",
        "        lookup_table[author_catalog[author_id]]+=1\n",
        "      else:\n",
        "        lookup_table[author_catalog[author_id]] = 1\n",
        "    except:\n",
        "      print(\"{} not present in Author list\".format(author_id))\n",
        "  return lookup_table"
      ],
      "metadata": {
        "id": "Im0IjAmTTo5B"
      },
      "execution_count": 47,
      "outputs": []
    },
    {
      "cell_type": "code",
      "source": [
        "dist_dict = get_author_content_distribution(train_df)\n",
        "pprint.pprint(dist_dict)"
      ],
      "metadata": {
        "colab": {
          "base_uri": "https://localhost:8080/"
        },
        "id": "lBOroitk1tAB",
        "outputId": "63a57cac-9980-47b0-b234-ee6781f06e74"
      },
      "execution_count": 50,
      "outputs": [
        {
          "output_type": "stream",
          "name": "stdout",
          "text": [
            "{'Albert Ross': 455,\n",
            " 'Anne Manning': 380,\n",
            " 'Arlo Bates': 1159,\n",
            " 'Arthur Conan Doyle': 912,\n",
            " 'Bret Harte': 4441,\n",
            " 'Catharine Maria Sedgwick': 306,\n",
            " 'Charles Darwin': 382,\n",
            " 'Charles Dickens': 213,\n",
            " 'Charles Reade': 823,\n",
            " 'Edith Wharton': 1483,\n",
            " 'Edward Eggleston': 645,\n",
            " 'Fergus Hume': 972,\n",
            " 'George Moore': 703,\n",
            " 'George William Curtis': 1742,\n",
            " 'Helen Mathers': 453,\n",
            " 'Henry Rider Haggard': 659,\n",
            " 'Horace Greeley': 407,\n",
            " 'Isabella Lucy Bird': 693,\n",
            " 'Jacob Abbott': 2387,\n",
            " 'James Baldwin': 6914,\n",
            " 'James Grant': 1163,\n",
            " 'James Payn': 2266,\n",
            " 'Jane Austen': 1108,\n",
            " 'John Kendrick Bangs': 430,\n",
            " 'John Muir': 755,\n",
            " 'John Pendleton Kennedy': 911,\n",
            " 'John Strange Winter': 1022,\n",
            " 'Joseph Conrad': 383,\n",
            " 'Lucas Malet': 1266,\n",
            " 'Marie Corelli': 468,\n",
            " 'Mark Twain': 627,\n",
            " 'Nathaniel Hawthorne': 485,\n",
            " 'Oliver Optic': 2312,\n",
            " 'Ralph Emerson': 2696,\n",
            " 'Robert Louis Stevenson': 1460,\n",
            " 'Rudyard Kipling': 183,\n",
            " 'Sarah Orne Jewett': 605,\n",
            " 'Sinclair Lewis': 660,\n",
            " 'Theodore Dreiser': 1078,\n",
            " 'Thomas Anstey Guthrie': 1825,\n",
            " 'Thomas Hardy': 1543,\n",
            " 'Walt Whitman': 587,\n",
            " 'Washington Irving': 2307,\n",
            " 'William Black': 914,\n",
            " 'William Carleton': 495}\n"
          ]
        }
      ]
    },
    {
      "cell_type": "code",
      "source": [
        "print(\"Training sample number: \", train_df.shape)\n",
        "print(\"Test sample number: \", test_df.shape)"
      ],
      "metadata": {
        "colab": {
          "base_uri": "https://localhost:8080/"
        },
        "id": "2t1GjEE25Sze",
        "outputId": "a294cd72-08d8-4014-c3ed-6f20dcbc0580"
      },
      "execution_count": 51,
      "outputs": [
        {
          "output_type": "stream",
          "name": "stdout",
          "text": [
            "Training sample number:  (53678, 2)\n",
            "Test sample number:  (38809, 1)\n"
          ]
        }
      ]
    },
    {
      "cell_type": "code",
      "source": [
        "train_df.info()"
      ],
      "metadata": {
        "colab": {
          "base_uri": "https://localhost:8080/"
        },
        "id": "I_ocjJdQ6421",
        "outputId": "c806b7e1-9c23-40b7-9c50-e52737b3ab0a"
      },
      "execution_count": 52,
      "outputs": [
        {
          "output_type": "stream",
          "name": "stdout",
          "text": [
            "<class 'pandas.core.frame.DataFrame'>\n",
            "RangeIndex: 53678 entries, 0 to 53677\n",
            "Data columns (total 2 columns):\n",
            " #   Column  Non-Null Count  Dtype \n",
            "---  ------  --------------  ----- \n",
            " 0   text    53678 non-null  object\n",
            " 1   author  53678 non-null  int64 \n",
            "dtypes: int64(1), object(1)\n",
            "memory usage: 838.8+ KB\n"
          ]
        }
      ]
    },
    {
      "cell_type": "code",
      "source": [
        "# Calculate average word count"
      ],
      "metadata": {
        "id": "LY65Ak2E69fF"
      },
      "execution_count": null,
      "outputs": []
    }
  ]
}